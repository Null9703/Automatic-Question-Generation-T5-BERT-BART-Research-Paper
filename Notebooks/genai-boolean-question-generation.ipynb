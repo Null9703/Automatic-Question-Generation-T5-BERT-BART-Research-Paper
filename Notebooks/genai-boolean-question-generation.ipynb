{
 "cells": [
  {
   "cell_type": "markdown",
   "metadata": {},
   "source": [
    "**Note:**\n",
    "The provided code is to be executed in a controlled virtual enviornment via \n",
    "installation of specifc versions of libraries to any avoid any conflicts or dependency issues."
   ]
  },
  {
   "cell_type": "markdown",
   "metadata": {},
   "source": [
    "# **Boolean Question Generation using T5 small trained on BoolQ Dataset**"
   ]
  },
  {
   "cell_type": "markdown",
   "metadata": {},
   "source": [
    "# Installing Dependencies:"
   ]
  },
  {
   "cell_type": "code",
   "execution_count": 1,
   "metadata": {
    "execution": {
     "iopub.execute_input": "2024-12-07T08:42:05.414217Z",
     "iopub.status.busy": "2024-12-07T08:42:05.413791Z",
     "iopub.status.idle": "2024-12-07T08:43:48.426621Z",
     "shell.execute_reply": "2024-12-07T08:43:48.424950Z",
     "shell.execute_reply.started": "2024-12-07T08:42:05.414181Z"
    },
    "trusted": true
   },
   "outputs": [
    {
     "name": "stdout",
     "output_type": "stream",
     "text": [
      "Requirement already satisfied: transformers in /opt/conda/lib/python3.10/site-packages (4.46.3)\n",
      "Requirement already satisfied: filelock in /opt/conda/lib/python3.10/site-packages (from transformers) (3.15.1)\n",
      "Requirement already satisfied: huggingface-hub<1.0,>=0.23.2 in /opt/conda/lib/python3.10/site-packages (from transformers) (0.26.2)\n",
      "Requirement already satisfied: numpy>=1.17 in /opt/conda/lib/python3.10/site-packages (from transformers) (1.26.4)\n",
      "Requirement already satisfied: packaging>=20.0 in /opt/conda/lib/python3.10/site-packages (from transformers) (21.3)\n",
      "Requirement already satisfied: pyyaml>=5.1 in /opt/conda/lib/python3.10/site-packages (from transformers) (6.0.2)\n",
      "Requirement already satisfied: regex!=2019.12.17 in /opt/conda/lib/python3.10/site-packages (from transformers) (2024.5.15)\n",
      "Requirement already satisfied: requests in /opt/conda/lib/python3.10/site-packages (from transformers) (2.32.3)\n",
      "Requirement already satisfied: tokenizers<0.21,>=0.20 in /opt/conda/lib/python3.10/site-packages (from transformers) (0.20.3)\n",
      "Requirement already satisfied: safetensors>=0.4.1 in /opt/conda/lib/python3.10/site-packages (from transformers) (0.4.5)\n",
      "Requirement already satisfied: tqdm>=4.27 in /opt/conda/lib/python3.10/site-packages (from transformers) (4.66.4)\n",
      "Requirement already satisfied: fsspec>=2023.5.0 in /opt/conda/lib/python3.10/site-packages (from huggingface-hub<1.0,>=0.23.2->transformers) (2024.9.0)\n",
      "Requirement already satisfied: typing-extensions>=3.7.4.3 in /opt/conda/lib/python3.10/site-packages (from huggingface-hub<1.0,>=0.23.2->transformers) (4.12.2)\n",
      "Requirement already satisfied: pyparsing!=3.0.5,>=2.0.2 in /opt/conda/lib/python3.10/site-packages (from packaging>=20.0->transformers) (3.1.2)\n",
      "Requirement already satisfied: charset-normalizer<4,>=2 in /opt/conda/lib/python3.10/site-packages (from requests->transformers) (3.3.2)\n",
      "Requirement already satisfied: idna<4,>=2.5 in /opt/conda/lib/python3.10/site-packages (from requests->transformers) (3.7)\n",
      "Requirement already satisfied: urllib3<3,>=1.21.1 in /opt/conda/lib/python3.10/site-packages (from requests->transformers) (1.26.18)\n",
      "Requirement already satisfied: certifi>=2017.4.17 in /opt/conda/lib/python3.10/site-packages (from requests->transformers) (2024.6.2)\n",
      "Requirement already satisfied: torchinfo in /opt/conda/lib/python3.10/site-packages (1.8.0)\n",
      "Requirement already satisfied: torch in /opt/conda/lib/python3.10/site-packages (2.4.0+cpu)\n",
      "Requirement already satisfied: filelock in /opt/conda/lib/python3.10/site-packages (from torch) (3.15.1)\n",
      "Requirement already satisfied: typing-extensions>=4.8.0 in /opt/conda/lib/python3.10/site-packages (from torch) (4.12.2)\n",
      "Requirement already satisfied: sympy in /opt/conda/lib/python3.10/site-packages (from torch) (1.13.1)\n",
      "Requirement already satisfied: networkx in /opt/conda/lib/python3.10/site-packages (from torch) (3.3)\n",
      "Requirement already satisfied: jinja2 in /opt/conda/lib/python3.10/site-packages (from torch) (3.1.4)\n",
      "Requirement already satisfied: fsspec in /opt/conda/lib/python3.10/site-packages (from torch) (2024.9.0)\n",
      "Requirement already satisfied: MarkupSafe>=2.0 in /opt/conda/lib/python3.10/site-packages (from jinja2->torch) (2.1.5)\n",
      "Requirement already satisfied: mpmath<1.4,>=1.1.0 in /opt/conda/lib/python3.10/site-packages (from sympy->torch) (1.3.0)\n",
      "Requirement already satisfied: datasets in /opt/conda/lib/python3.10/site-packages (3.1.0)\n",
      "Requirement already satisfied: filelock in /opt/conda/lib/python3.10/site-packages (from datasets) (3.15.1)\n",
      "Requirement already satisfied: numpy>=1.17 in /opt/conda/lib/python3.10/site-packages (from datasets) (1.26.4)\n",
      "Requirement already satisfied: pyarrow>=15.0.0 in /opt/conda/lib/python3.10/site-packages (from datasets) (18.1.0)\n",
      "Requirement already satisfied: dill<0.3.9,>=0.3.0 in /opt/conda/lib/python3.10/site-packages (from datasets) (0.3.8)\n",
      "Requirement already satisfied: pandas in /opt/conda/lib/python3.10/site-packages (from datasets) (2.2.3)\n",
      "Requirement already satisfied: requests>=2.32.2 in /opt/conda/lib/python3.10/site-packages (from datasets) (2.32.3)\n",
      "Requirement already satisfied: tqdm>=4.66.3 in /opt/conda/lib/python3.10/site-packages (from datasets) (4.66.4)\n",
      "Requirement already satisfied: xxhash in /opt/conda/lib/python3.10/site-packages (from datasets) (3.4.1)\n",
      "Requirement already satisfied: multiprocess<0.70.17 in /opt/conda/lib/python3.10/site-packages (from datasets) (0.70.16)\n",
      "Requirement already satisfied: fsspec<=2024.9.0,>=2023.1.0 in /opt/conda/lib/python3.10/site-packages (from fsspec[http]<=2024.9.0,>=2023.1.0->datasets) (2024.9.0)\n",
      "Requirement already satisfied: aiohttp in /opt/conda/lib/python3.10/site-packages (from datasets) (3.9.5)\n",
      "Requirement already satisfied: huggingface-hub>=0.23.0 in /opt/conda/lib/python3.10/site-packages (from datasets) (0.26.2)\n",
      "Requirement already satisfied: packaging in /opt/conda/lib/python3.10/site-packages (from datasets) (21.3)\n",
      "Requirement already satisfied: pyyaml>=5.1 in /opt/conda/lib/python3.10/site-packages (from datasets) (6.0.2)\n",
      "Requirement already satisfied: aiosignal>=1.1.2 in /opt/conda/lib/python3.10/site-packages (from aiohttp->datasets) (1.3.1)\n",
      "Requirement already satisfied: attrs>=17.3.0 in /opt/conda/lib/python3.10/site-packages (from aiohttp->datasets) (23.2.0)\n",
      "Requirement already satisfied: frozenlist>=1.1.1 in /opt/conda/lib/python3.10/site-packages (from aiohttp->datasets) (1.4.1)\n",
      "Requirement already satisfied: multidict<7.0,>=4.5 in /opt/conda/lib/python3.10/site-packages (from aiohttp->datasets) (6.0.5)\n",
      "Requirement already satisfied: yarl<2.0,>=1.0 in /opt/conda/lib/python3.10/site-packages (from aiohttp->datasets) (1.9.4)\n",
      "Requirement already satisfied: async-timeout<5.0,>=4.0 in /opt/conda/lib/python3.10/site-packages (from aiohttp->datasets) (4.0.3)\n",
      "Requirement already satisfied: typing-extensions>=3.7.4.3 in /opt/conda/lib/python3.10/site-packages (from huggingface-hub>=0.23.0->datasets) (4.12.2)\n",
      "Requirement already satisfied: pyparsing!=3.0.5,>=2.0.2 in /opt/conda/lib/python3.10/site-packages (from packaging->datasets) (3.1.2)\n",
      "Requirement already satisfied: charset-normalizer<4,>=2 in /opt/conda/lib/python3.10/site-packages (from requests>=2.32.2->datasets) (3.3.2)\n",
      "Requirement already satisfied: idna<4,>=2.5 in /opt/conda/lib/python3.10/site-packages (from requests>=2.32.2->datasets) (3.7)\n",
      "Requirement already satisfied: urllib3<3,>=1.21.1 in /opt/conda/lib/python3.10/site-packages (from requests>=2.32.2->datasets) (1.26.18)\n",
      "Requirement already satisfied: certifi>=2017.4.17 in /opt/conda/lib/python3.10/site-packages (from requests>=2.32.2->datasets) (2024.6.2)\n",
      "Requirement already satisfied: python-dateutil>=2.8.2 in /opt/conda/lib/python3.10/site-packages (from pandas->datasets) (2.9.0.post0)\n",
      "Requirement already satisfied: pytz>=2020.1 in /opt/conda/lib/python3.10/site-packages (from pandas->datasets) (2024.1)\n",
      "Requirement already satisfied: tzdata>=2022.7 in /opt/conda/lib/python3.10/site-packages (from pandas->datasets) (2024.1)\n",
      "Requirement already satisfied: six>=1.5 in /opt/conda/lib/python3.10/site-packages (from python-dateutil>=2.8.2->pandas->datasets) (1.16.0)\n",
      "Requirement already satisfied: matplotlib in /opt/conda/lib/python3.10/site-packages (3.7.5)\n",
      "Requirement already satisfied: contourpy>=1.0.1 in /opt/conda/lib/python3.10/site-packages (from matplotlib) (1.2.1)\n",
      "Requirement already satisfied: cycler>=0.10 in /opt/conda/lib/python3.10/site-packages (from matplotlib) (0.12.1)\n",
      "Requirement already satisfied: fonttools>=4.22.0 in /opt/conda/lib/python3.10/site-packages (from matplotlib) (4.53.0)\n",
      "Requirement already satisfied: kiwisolver>=1.0.1 in /opt/conda/lib/python3.10/site-packages (from matplotlib) (1.4.5)\n",
      "Requirement already satisfied: numpy<2,>=1.20 in /opt/conda/lib/python3.10/site-packages (from matplotlib) (1.26.4)\n",
      "Requirement already satisfied: packaging>=20.0 in /opt/conda/lib/python3.10/site-packages (from matplotlib) (21.3)\n",
      "Requirement already satisfied: pillow>=6.2.0 in /opt/conda/lib/python3.10/site-packages (from matplotlib) (10.3.0)\n",
      "Requirement already satisfied: pyparsing>=2.3.1 in /opt/conda/lib/python3.10/site-packages (from matplotlib) (3.1.2)\n",
      "Requirement already satisfied: python-dateutil>=2.7 in /opt/conda/lib/python3.10/site-packages (from matplotlib) (2.9.0.post0)\n",
      "Requirement already satisfied: six>=1.5 in /opt/conda/lib/python3.10/site-packages (from python-dateutil>=2.7->matplotlib) (1.16.0)\n",
      "Requirement already satisfied: tqdm in /opt/conda/lib/python3.10/site-packages (4.66.4)\n",
      "Collecting evaluate\n",
      "  Downloading evaluate-0.4.3-py3-none-any.whl.metadata (9.2 kB)\n",
      "Requirement already satisfied: datasets>=2.0.0 in /opt/conda/lib/python3.10/site-packages (from evaluate) (3.1.0)\n",
      "Requirement already satisfied: numpy>=1.17 in /opt/conda/lib/python3.10/site-packages (from evaluate) (1.26.4)\n",
      "Requirement already satisfied: dill in /opt/conda/lib/python3.10/site-packages (from evaluate) (0.3.8)\n",
      "Requirement already satisfied: pandas in /opt/conda/lib/python3.10/site-packages (from evaluate) (2.2.3)\n",
      "Requirement already satisfied: requests>=2.19.0 in /opt/conda/lib/python3.10/site-packages (from evaluate) (2.32.3)\n",
      "Requirement already satisfied: tqdm>=4.62.1 in /opt/conda/lib/python3.10/site-packages (from evaluate) (4.66.4)\n",
      "Requirement already satisfied: xxhash in /opt/conda/lib/python3.10/site-packages (from evaluate) (3.4.1)\n",
      "Requirement already satisfied: multiprocess in /opt/conda/lib/python3.10/site-packages (from evaluate) (0.70.16)\n",
      "Requirement already satisfied: fsspec>=2021.05.0 in /opt/conda/lib/python3.10/site-packages (from fsspec[http]>=2021.05.0->evaluate) (2024.9.0)\n",
      "Requirement already satisfied: huggingface-hub>=0.7.0 in /opt/conda/lib/python3.10/site-packages (from evaluate) (0.26.2)\n",
      "Requirement already satisfied: packaging in /opt/conda/lib/python3.10/site-packages (from evaluate) (21.3)\n",
      "Requirement already satisfied: filelock in /opt/conda/lib/python3.10/site-packages (from datasets>=2.0.0->evaluate) (3.15.1)\n",
      "Requirement already satisfied: pyarrow>=15.0.0 in /opt/conda/lib/python3.10/site-packages (from datasets>=2.0.0->evaluate) (18.1.0)\n",
      "Requirement already satisfied: aiohttp in /opt/conda/lib/python3.10/site-packages (from datasets>=2.0.0->evaluate) (3.9.5)\n",
      "Requirement already satisfied: pyyaml>=5.1 in /opt/conda/lib/python3.10/site-packages (from datasets>=2.0.0->evaluate) (6.0.2)\n",
      "Requirement already satisfied: typing-extensions>=3.7.4.3 in /opt/conda/lib/python3.10/site-packages (from huggingface-hub>=0.7.0->evaluate) (4.12.2)\n",
      "Requirement already satisfied: pyparsing!=3.0.5,>=2.0.2 in /opt/conda/lib/python3.10/site-packages (from packaging->evaluate) (3.1.2)\n",
      "Requirement already satisfied: charset-normalizer<4,>=2 in /opt/conda/lib/python3.10/site-packages (from requests>=2.19.0->evaluate) (3.3.2)\n",
      "Requirement already satisfied: idna<4,>=2.5 in /opt/conda/lib/python3.10/site-packages (from requests>=2.19.0->evaluate) (3.7)\n",
      "Requirement already satisfied: urllib3<3,>=1.21.1 in /opt/conda/lib/python3.10/site-packages (from requests>=2.19.0->evaluate) (1.26.18)\n",
      "Requirement already satisfied: certifi>=2017.4.17 in /opt/conda/lib/python3.10/site-packages (from requests>=2.19.0->evaluate) (2024.6.2)\n",
      "Requirement already satisfied: python-dateutil>=2.8.2 in /opt/conda/lib/python3.10/site-packages (from pandas->evaluate) (2.9.0.post0)\n",
      "Requirement already satisfied: pytz>=2020.1 in /opt/conda/lib/python3.10/site-packages (from pandas->evaluate) (2024.1)\n",
      "Requirement already satisfied: tzdata>=2022.7 in /opt/conda/lib/python3.10/site-packages (from pandas->evaluate) (2024.1)\n",
      "Requirement already satisfied: aiosignal>=1.1.2 in /opt/conda/lib/python3.10/site-packages (from aiohttp->datasets>=2.0.0->evaluate) (1.3.1)\n",
      "Requirement already satisfied: attrs>=17.3.0 in /opt/conda/lib/python3.10/site-packages (from aiohttp->datasets>=2.0.0->evaluate) (23.2.0)\n",
      "Requirement already satisfied: frozenlist>=1.1.1 in /opt/conda/lib/python3.10/site-packages (from aiohttp->datasets>=2.0.0->evaluate) (1.4.1)\n",
      "Requirement already satisfied: multidict<7.0,>=4.5 in /opt/conda/lib/python3.10/site-packages (from aiohttp->datasets>=2.0.0->evaluate) (6.0.5)\n",
      "Requirement already satisfied: yarl<2.0,>=1.0 in /opt/conda/lib/python3.10/site-packages (from aiohttp->datasets>=2.0.0->evaluate) (1.9.4)\n",
      "Requirement already satisfied: async-timeout<5.0,>=4.0 in /opt/conda/lib/python3.10/site-packages (from aiohttp->datasets>=2.0.0->evaluate) (4.0.3)\n",
      "Requirement already satisfied: six>=1.5 in /opt/conda/lib/python3.10/site-packages (from python-dateutil>=2.8.2->pandas->evaluate) (1.16.0)\n",
      "Downloading evaluate-0.4.3-py3-none-any.whl (84 kB)\n",
      "\u001b[2K   \u001b[90m━━━━━━━━━━━━━━━━━━━━━━━━━━━━━━━━━━━━━━━━\u001b[0m \u001b[32m84.0/84.0 kB\u001b[0m \u001b[31m2.8 MB/s\u001b[0m eta \u001b[36m0:00:00\u001b[0m\n",
      "\u001b[?25hInstalling collected packages: evaluate\n",
      "Successfully installed evaluate-0.4.3\n",
      "Requirement already satisfied: pytorch-lightning in /opt/conda/lib/python3.10/site-packages (2.4.0)\n",
      "Requirement already satisfied: torch>=2.1.0 in /opt/conda/lib/python3.10/site-packages (from pytorch-lightning) (2.4.0+cpu)\n",
      "Requirement already satisfied: tqdm>=4.57.0 in /opt/conda/lib/python3.10/site-packages (from pytorch-lightning) (4.66.4)\n",
      "Requirement already satisfied: PyYAML>=5.4 in /opt/conda/lib/python3.10/site-packages (from pytorch-lightning) (6.0.2)\n",
      "Requirement already satisfied: fsspec>=2022.5.0 in /opt/conda/lib/python3.10/site-packages (from fsspec[http]>=2022.5.0->pytorch-lightning) (2024.9.0)\n",
      "Requirement already satisfied: torchmetrics>=0.7.0 in /opt/conda/lib/python3.10/site-packages (from pytorch-lightning) (1.6.0)\n",
      "Requirement already satisfied: packaging>=20.0 in /opt/conda/lib/python3.10/site-packages (from pytorch-lightning) (21.3)\n",
      "Requirement already satisfied: typing-extensions>=4.4.0 in /opt/conda/lib/python3.10/site-packages (from pytorch-lightning) (4.12.2)\n",
      "Requirement already satisfied: lightning-utilities>=0.10.0 in /opt/conda/lib/python3.10/site-packages (from pytorch-lightning) (0.11.9)\n",
      "Requirement already satisfied: aiohttp!=4.0.0a0,!=4.0.0a1 in /opt/conda/lib/python3.10/site-packages (from fsspec[http]>=2022.5.0->pytorch-lightning) (3.9.5)\n",
      "Requirement already satisfied: setuptools in /opt/conda/lib/python3.10/site-packages (from lightning-utilities>=0.10.0->pytorch-lightning) (70.0.0)\n",
      "Requirement already satisfied: pyparsing!=3.0.5,>=2.0.2 in /opt/conda/lib/python3.10/site-packages (from packaging>=20.0->pytorch-lightning) (3.1.2)\n",
      "Requirement already satisfied: filelock in /opt/conda/lib/python3.10/site-packages (from torch>=2.1.0->pytorch-lightning) (3.15.1)\n",
      "Requirement already satisfied: sympy in /opt/conda/lib/python3.10/site-packages (from torch>=2.1.0->pytorch-lightning) (1.13.1)\n",
      "Requirement already satisfied: networkx in /opt/conda/lib/python3.10/site-packages (from torch>=2.1.0->pytorch-lightning) (3.3)\n",
      "Requirement already satisfied: jinja2 in /opt/conda/lib/python3.10/site-packages (from torch>=2.1.0->pytorch-lightning) (3.1.4)\n",
      "Requirement already satisfied: numpy>1.20.0 in /opt/conda/lib/python3.10/site-packages (from torchmetrics>=0.7.0->pytorch-lightning) (1.26.4)\n",
      "Requirement already satisfied: aiosignal>=1.1.2 in /opt/conda/lib/python3.10/site-packages (from aiohttp!=4.0.0a0,!=4.0.0a1->fsspec[http]>=2022.5.0->pytorch-lightning) (1.3.1)\n",
      "Requirement already satisfied: attrs>=17.3.0 in /opt/conda/lib/python3.10/site-packages (from aiohttp!=4.0.0a0,!=4.0.0a1->fsspec[http]>=2022.5.0->pytorch-lightning) (23.2.0)\n",
      "Requirement already satisfied: frozenlist>=1.1.1 in /opt/conda/lib/python3.10/site-packages (from aiohttp!=4.0.0a0,!=4.0.0a1->fsspec[http]>=2022.5.0->pytorch-lightning) (1.4.1)\n",
      "Requirement already satisfied: multidict<7.0,>=4.5 in /opt/conda/lib/python3.10/site-packages (from aiohttp!=4.0.0a0,!=4.0.0a1->fsspec[http]>=2022.5.0->pytorch-lightning) (6.0.5)\n",
      "Requirement already satisfied: yarl<2.0,>=1.0 in /opt/conda/lib/python3.10/site-packages (from aiohttp!=4.0.0a0,!=4.0.0a1->fsspec[http]>=2022.5.0->pytorch-lightning) (1.9.4)\n",
      "Requirement already satisfied: async-timeout<5.0,>=4.0 in /opt/conda/lib/python3.10/site-packages (from aiohttp!=4.0.0a0,!=4.0.0a1->fsspec[http]>=2022.5.0->pytorch-lightning) (4.0.3)\n",
      "Requirement already satisfied: MarkupSafe>=2.0 in /opt/conda/lib/python3.10/site-packages (from jinja2->torch>=2.1.0->pytorch-lightning) (2.1.5)\n",
      "Requirement already satisfied: mpmath<1.4,>=1.1.0 in /opt/conda/lib/python3.10/site-packages (from sympy->torch>=2.1.0->pytorch-lightning) (1.3.0)\n",
      "Requirement already satisfied: idna>=2.0 in /opt/conda/lib/python3.10/site-packages (from yarl<2.0,>=1.0->aiohttp!=4.0.0a0,!=4.0.0a1->fsspec[http]>=2022.5.0->pytorch-lightning) (3.7)\n",
      "Collecting rouge-score\n",
      "  Downloading rouge_score-0.1.2.tar.gz (17 kB)\n",
      "  Preparing metadata (setup.py) ... \u001b[?25ldone\n",
      "\u001b[?25hRequirement already satisfied: absl-py in /opt/conda/lib/python3.10/site-packages (from rouge-score) (1.4.0)\n",
      "Requirement already satisfied: nltk in /opt/conda/lib/python3.10/site-packages (from rouge-score) (3.2.4)\n",
      "Requirement already satisfied: numpy in /opt/conda/lib/python3.10/site-packages (from rouge-score) (1.26.4)\n",
      "Requirement already satisfied: six>=1.14.0 in /opt/conda/lib/python3.10/site-packages (from rouge-score) (1.16.0)\n",
      "Building wheels for collected packages: rouge-score\n",
      "  Building wheel for rouge-score (setup.py) ... \u001b[?25ldone\n",
      "\u001b[?25h  Created wheel for rouge-score: filename=rouge_score-0.1.2-py3-none-any.whl size=24934 sha256=65762689d422b3a3a8f78310261a71c5b1a9bea1702c9da93bfc9ad3770e8434\n",
      "  Stored in directory: /root/.cache/pip/wheels/5f/dd/89/461065a73be61a532ff8599a28e9beef17985c9e9c31e541b4\n",
      "Successfully built rouge-score\n",
      "Installing collected packages: rouge-score\n",
      "Successfully installed rouge-score-0.1.2\n"
     ]
    }
   ],
   "source": [
    "!pip install transformers\n",
    "!pip install torchinfo\n",
    "!pip install torch\n",
    "!pip install datasets\n",
    "!pip install matplotlib\n",
    "!pip install tqdm\n",
    "!pip install evaluate\n",
    "!pip install pytorch-lightning\n",
    "!pip install rouge-score"
   ]
  },
  {
   "cell_type": "markdown",
   "metadata": {},
   "source": [
    "# Including Libraries:"
   ]
  },
  {
   "cell_type": "code",
   "execution_count": 2,
   "metadata": {
    "execution": {
     "iopub.execute_input": "2024-12-07T08:44:24.182277Z",
     "iopub.status.busy": "2024-12-07T08:44:24.181808Z",
     "iopub.status.idle": "2024-12-07T08:44:48.674398Z",
     "shell.execute_reply": "2024-12-07T08:44:48.673109Z",
     "shell.execute_reply.started": "2024-12-07T08:44:24.182232Z"
    },
    "trusted": true
   },
   "outputs": [],
   "source": [
    "import time\n",
    "import torch\n",
    "import evaluate \n",
    "import numpy as np\n",
    "import pandas as pd\n",
    "from tqdm import tqdm\n",
    "from torchinfo import summary\n",
    "from tabulate import tabulate\n",
    "import matplotlib.pyplot as plt\n",
    "from torch.utils.data import DataLoader, Dataset\n",
    "from transformers import T5ForConditionalGeneration, T5Tokenizer, AdamW, T5Config"
   ]
  },
  {
   "cell_type": "markdown",
   "metadata": {},
   "source": [
    "# Data Loading and Pre Processing:"
   ]
  },
  {
   "cell_type": "code",
   "execution_count": 3,
   "metadata": {
    "execution": {
     "iopub.execute_input": "2024-12-07T08:45:03.037199Z",
     "iopub.status.busy": "2024-12-07T08:45:03.036290Z",
     "iopub.status.idle": "2024-12-07T08:45:03.591029Z",
     "shell.execute_reply": "2024-12-07T08:45:03.589762Z",
     "shell.execute_reply.started": "2024-12-07T08:45:03.037150Z"
    },
    "trusted": true
   },
   "outputs": [
    {
     "name": "stdout",
     "output_type": "stream",
     "text": [
      "Sample where answer is True:\n",
      "question      do iran and afghanistan speak the same language\n",
      "answer                                                   True\n",
      "passage     Persian (/ˈpɜːrʒən, -ʃən/), also known by its ...\n",
      "Name: 0, dtype: object\n",
      "\n",
      "Sample where answer is False:\n",
      "question           is elder scrolls online the same as skyrim\n",
      "answer                                                  False\n",
      "passage     As with other games in The Elder Scrolls serie...\n",
      "Name: 4, dtype: object\n"
     ]
    },
    {
     "data": {
      "image/png": "[encoded data removed]",
      "text/plain": [
       "<Figure size 800x500 with 1 Axes>"
      ]
     },
     "metadata": {},
     "output_type": "display_data"
    },
    {
     "name": "stdout",
     "output_type": "stream",
     "text": [
      "\n",
      "Class Imbalance Check:\n",
      "Total Samples: 9427\n",
      "True Samples: 5874 (62.31%)\n",
      "False Samples: 3553 (37.69%)\n"
     ]
    }
   ],
   "source": [
    "# File paths\n",
    "train_path = \"../input/unlock-logical-thinking-with-the-boolq-dataset/train.csv\"\n",
    "\n",
    "# Load the train dataset\n",
    "train_df = pd.read_csv(train_path)\n",
    "\n",
    "# Step 1: Show one sample for each class\n",
    "print(\"Sample where answer is True:\")\n",
    "print(train_df[train_df['answer'] == True].iloc[0])\n",
    "\n",
    "print(\"\\nSample where answer is False:\")\n",
    "print(train_df[train_df['answer'] == False].iloc[0])\n",
    "\n",
    "# Step 2: Show data distribution for each class\n",
    "class_distribution = train_df['answer'].value_counts()\n",
    "\n",
    "# Plot the class distribution\n",
    "plt.figure(figsize=(8, 5))\n",
    "class_distribution.plot(kind='bar', color=['skyblue', 'salmon'])\n",
    "plt.title(\"Class Distribution of Answers\")\n",
    "plt.xlabel(\"Answer\")\n",
    "plt.ylabel(\"Count\")\n",
    "plt.xticks(ticks=[0, 1], labels=['False', 'True'], rotation=0)\n",
    "plt.show()\n",
    "\n",
    "# Step 3: Check for class imbalances\n",
    "total = len(train_df)\n",
    "true_count = class_distribution[True]\n",
    "false_count = class_distribution[False]\n",
    "\n",
    "print(\"\\nClass Imbalance Check:\")\n",
    "print(f\"Total Samples: {total}\")\n",
    "print(f\"True Samples: {true_count} ({(true_count / total) * 100:.2f}%)\")\n",
    "print(f\"False Samples: {false_count} ({(false_count / total) * 100:.2f}%)\")"
   ]
  },
  {
   "cell_type": "code",
   "execution_count": 11,
   "metadata": {
    "execution": {
     "iopub.execute_input": "2024-12-07T08:51:58.770651Z",
     "iopub.status.busy": "2024-12-07T08:51:58.770144Z",
     "iopub.status.idle": "2024-12-07T08:51:58.937769Z",
     "shell.execute_reply": "2024-12-07T08:51:58.936416Z",
     "shell.execute_reply.started": "2024-12-07T08:51:58.770612Z"
    },
    "trusted": true
   },
   "outputs": [
    {
     "name": "stdout",
     "output_type": "stream",
     "text": [
      "Sample Training Data:\n",
      "                                             input_text  \\\n",
      "8681  Context: Filming took place from February to J...   \n",
      "2362  Context: The home field curse affects the host...   \n",
      "6232  Context: Radar jammers are not allowed under f...   \n",
      "1318  Context: Chitty Chitty Bang Bang is a 1968 Bri...   \n",
      "543   Context: The term ``Grand Slam'' was first app...   \n",
      "\n",
      "                                            target_text  \n",
      "8681     did jurassic world fallen kingdom come out yet  \n",
      "2362  has there ever been a host team in the super bowl  \n",
      "6232      is it legal to have a radar detector in texas  \n",
      "1318            is chitty chitty bang bang just a story  \n",
      "543   has anyone won the grand slam in golf in one year  \n",
      "\n",
      "Sample Validation Data:\n",
      "                                             input_text  \\\n",
      "1644  Context: Travel to each of these altitude regi...   \n",
      "134   Context: The Fate of the Furious premiered in ...   \n",
      "411   Context: Flipper was a mascot for the Miami Do...   \n",
      "203   Context: Along with his friend Alistair and Te...   \n",
      "1159  Context: The earliest notable rock-and-roll pe...   \n",
      "\n",
      "                                            target_text  \n",
      "1644            is living at high altitude good for you  \n",
      "134              is fate and the furious the last movie  \n",
      "411   do the miami dolphins have a real dolphin in t...  \n",
      "203            is tess carroll died in charlie st cloud  \n",
      "1159             did the beatles ever play at red rocks  \n"
     ]
    }
   ],
   "source": [
    "# File paths\n",
    "train_path = \"../input/unlock-logical-thinking-with-the-boolq-dataset/train.csv\"\n",
    "validation_path = \"../input/unlock-logical-thinking-with-the-boolq-dataset/validation.csv\"\n",
    "\n",
    "# Step 1: Load the data\n",
    "train_df = pd.read_csv(train_path)\n",
    "validation_df = pd.read_csv(validation_path)\n",
    "\n",
    "# Step 2: Preprocess the data\n",
    "def preprocess_data(df):\n",
    "    # Clean text fields\n",
    "    df['question'] = df['question'].str.strip()\n",
    "    df['passage'] = df['passage'].str.strip()\n",
    "    # Handle missing values\n",
    "    df.dropna(subset=['question', 'passage'], inplace=True)\n",
    "    return df\n",
    "\n",
    "train_df = preprocess_data(train_df)\n",
    "validation_df = preprocess_data(validation_df)\n",
    "\n",
    "# Step 3: Prepare for T5 input format\n",
    "def prepare_t5_format(df):\n",
    "    # Use the passage as context and the question as target\n",
    "    df['input_text'] = \"Context: \" + df['passage']\n",
    "    df['target_text'] = df['question']  # The target is now the question\n",
    "    return df[['input_text', 'target_text']]\n",
    "\n",
    "train_df = prepare_t5_format(train_df)\n",
    "validation_df = prepare_t5_format(validation_df)\n",
    "\n",
    "# Step 4: Sample data (Optional)\n",
    "sample_train = train_df.sample(5, random_state=42)  # Small sample for debugging\n",
    "sample_validation = validation_df.sample(5, random_state=42)\n",
    "\n",
    "print(\"Sample Training Data:\")\n",
    "print(sample_train.head())\n",
    "\n",
    "print(\"\\nSample Validation Data:\")\n",
    "print(sample_validation.head())"
   ]
  },
  {
   "cell_type": "markdown",
   "metadata": {},
   "source": [
    "# Fine-Tuning T5-small (128M)"
   ]
  },
  {
   "cell_type": "code",
   "execution_count": 5,
   "metadata": {
    "execution": {
     "iopub.execute_input": "2024-12-07T08:45:12.802048Z",
     "iopub.status.busy": "2024-12-07T08:45:12.801471Z",
     "iopub.status.idle": "2024-12-07T08:45:17.447573Z",
     "shell.execute_reply": "2024-12-07T08:45:17.445678Z",
     "shell.execute_reply.started": "2024-12-07T08:45:12.801993Z"
    },
    "trusted": true
   },
   "outputs": [
    {
     "data": {
      "application/vnd.jupyter.widget-view+json": {
       "model_id": "db8321a441c24ce8bc975b0d2311fe30",
       "version_major": 2,
       "version_minor": 0
      },
      "text/plain": [
       "tokenizer_config.json:   0%|          | 0.00/2.32k [00:00<?, ?B/s]"
      ]
     },
     "metadata": {},
     "output_type": "display_data"
    },
    {
     "data": {
      "application/vnd.jupyter.widget-view+json": {
       "model_id": "0bc09fc972c8429eb2c2eaa4a50389f4",
       "version_major": 2,
       "version_minor": 0
      },
      "text/plain": [
       "spiece.model:   0%|          | 0.00/792k [00:00<?, ?B/s]"
      ]
     },
     "metadata": {},
     "output_type": "display_data"
    },
    {
     "data": {
      "application/vnd.jupyter.widget-view+json": {
       "model_id": "7e9e95a009dc4122ab758bdc05371b34",
       "version_major": 2,
       "version_minor": 0
      },
      "text/plain": [
       "tokenizer.json:   0%|          | 0.00/1.39M [00:00<?, ?B/s]"
      ]
     },
     "metadata": {},
     "output_type": "display_data"
    },
    {
     "name": "stderr",
     "output_type": "stream",
     "text": [
      "You are using the default legacy behaviour of the <class 'transformers.models.t5.tokenization_t5.T5Tokenizer'>. This is expected, and simply means that the `legacy` (previous) behavior will be used so nothing changes for you. If you want to use the new behaviour, set `legacy=False`. This should only be set if you understand what it means, and thoroughly read the reason why this was added as explained in https://github.com/huggingface/transformers/pull/24565\n"
     ]
    },
    {
     "data": {
      "application/vnd.jupyter.widget-view+json": {
       "model_id": "7bc148c88ce74442873924c4b5bae92f",
       "version_major": 2,
       "version_minor": 0
      },
      "text/plain": [
       "config.json:   0%|          | 0.00/1.21k [00:00<?, ?B/s]"
      ]
     },
     "metadata": {},
     "output_type": "display_data"
    },
    {
     "data": {
      "application/vnd.jupyter.widget-view+json": {
       "model_id": "11d2ac646b9642e2bfe81ff7453b3429",
       "version_major": 2,
       "version_minor": 0
      },
      "text/plain": [
       "model.safetensors:   0%|          | 0.00/242M [00:00<?, ?B/s]"
      ]
     },
     "metadata": {},
     "output_type": "display_data"
    },
    {
     "data": {
      "application/vnd.jupyter.widget-view+json": {
       "model_id": "8637f5700135474192f03780eb09a286",
       "version_major": 2,
       "version_minor": 0
      },
      "text/plain": [
       "generation_config.json:   0%|          | 0.00/147 [00:00<?, ?B/s]"
      ]
     },
     "metadata": {},
     "output_type": "display_data"
    },
    {
     "name": "stderr",
     "output_type": "stream",
     "text": [
      "Passing a tuple of `past_key_values` is deprecated and will be removed in Transformers v4.48.0. You should pass an instance of `EncoderDecoderCache` instead, e.g. `past_key_values=EncoderDecoderCache.from_legacy_cache(past_key_values)`.\n"
     ]
    },
    {
     "name": "stdout",
     "output_type": "stream",
     "text": [
      "=========================================================================================================\n",
      "Layer (type:depth-idx)                                  Output Shape              Param #\n",
      "=========================================================================================================\n",
      "T5ForConditionalGeneration                              [1, 12, 512]              --\n",
      "├─T5Stack: 1-1                                          [1, 12, 512]              35,330,816\n",
      "├─T5Stack: 1-2                                          --                        (recursive)\n",
      "│    └─Embedding: 2-1                                   [1, 12, 512]              16,449,536\n",
      "├─T5Stack: 1-3                                          --                        (recursive)\n",
      "│    └─Dropout: 2-2                                     [1, 12, 512]              --\n",
      "│    └─ModuleList: 2-3                                  --                        --\n",
      "│    │    └─T5Block: 3-1                                [1, 12, 512]              3,147,008\n",
      "│    │    └─T5Block: 3-2                                [1, 12, 512]              3,146,752\n",
      "│    │    └─T5Block: 3-3                                [1, 12, 512]              3,146,752\n",
      "│    │    └─T5Block: 3-4                                [1, 12, 512]              3,146,752\n",
      "│    │    └─T5Block: 3-5                                [1, 12, 512]              3,146,752\n",
      "│    │    └─T5Block: 3-6                                [1, 12, 512]              3,146,752\n",
      "│    └─T5LayerNorm: 2-4                                 [1, 12, 512]              512\n",
      "│    └─Dropout: 2-5                                     [1, 12, 512]              --\n",
      "├─T5Stack: 1-4                                          [1, 8, 6, 64]             16,449,536\n",
      "│    └─Embedding: 2-6                                   [1, 6, 512]               (recursive)\n",
      "│    └─Dropout: 2-7                                     [1, 6, 512]               --\n",
      "│    └─ModuleList: 2-8                                  --                        --\n",
      "│    │    └─T5Block: 3-7                                [1, 6, 512]               4,196,096\n",
      "│    │    └─T5Block: 3-8                                [1, 6, 512]               4,195,840\n",
      "│    │    └─T5Block: 3-9                                [1, 6, 512]               4,195,840\n",
      "│    │    └─T5Block: 3-10                               [1, 6, 512]               4,195,840\n",
      "│    │    └─T5Block: 3-11                               [1, 6, 512]               4,195,840\n",
      "│    │    └─T5Block: 3-12                               [1, 6, 512]               4,195,840\n",
      "│    └─T5LayerNorm: 2-9                                 [1, 6, 512]               512\n",
      "│    └─Dropout: 2-10                                    [1, 6, 512]               --\n",
      "├─Linear: 1-5                                           [1, 6, 32128]             16,449,536\n",
      "=========================================================================================================\n",
      "Total params: 128,736,512\n",
      "Trainable params: 128,736,512\n",
      "Non-trainable params: 0\n",
      "Total mult-adds (M): 93.41\n",
      "=========================================================================================================\n",
      "Input size (MB): 0.00\n",
      "Forward/backward pass size (MB): 7.60\n",
      "Params size (MB): 307.82\n",
      "Estimated Total Size (MB): 315.42\n",
      "=========================================================================================================\n"
     ]
    }
   ],
   "source": [
    "# Load the model and tokenizer\n",
    "model_name = \"t5-small\"\n",
    "tokenizer = T5Tokenizer.from_pretrained(model_name)\n",
    "model = T5ForConditionalGeneration.from_pretrained(model_name)\n",
    "\n",
    "# Prepare dummy inputs\n",
    "input_text = \"Translate English to French: The house is beautiful.\"\n",
    "input_ids = tokenizer.encode(input_text, return_tensors=\"pt\")  # Encoder input\n",
    "\n",
    "decoder_input_text = \"La maison est belle.\"\n",
    "decoder_input_ids = tokenizer.encode(decoder_input_text, return_tensors=\"pt\")  # Decoder input\n",
    "\n",
    "# Display the architecture summary\n",
    "print(summary(model, input_data={\"input_ids\": input_ids, \"decoder_input_ids\": decoder_input_ids}, depth=3))"
   ]
  },
  {
   "cell_type": "code",
   "execution_count": 3,
   "metadata": {
    "execution": {
     "iopub.execute_input": "2024-12-07T08:41:04.576408Z",
     "iopub.status.busy": "2024-12-07T08:41:04.575556Z",
     "iopub.status.idle": "2024-12-07T08:41:04.695330Z",
     "shell.execute_reply": "2024-12-07T08:41:04.694324Z",
     "shell.execute_reply.started": "2024-12-07T08:41:04.576358Z"
    },
    "trusted": true
   },
   "outputs": [
    {
     "name": "stdout",
     "output_type": "stream",
     "text": [
      "GPUs are available. Number of GPUs: 2\n",
      "GPU 0: Tesla T4\n",
      "GPU 1: Tesla T4\n",
      "Using GPU: Tesla T4\n"
     ]
    }
   ],
   "source": [
    "# Check if GPUs are available\n",
    "if torch.cuda.is_available():\n",
    "    # Get the number of GPUs\n",
    "    num_gpus = torch.cuda.device_count()\n",
    "    print(f\"GPUs are available. Number of GPUs: {num_gpus}\")\n",
    "    \n",
    "    # Display GPU names\n",
    "    for i in range(num_gpus):\n",
    "        print(f\"GPU {i}: {torch.cuda.get_device_name(i)}\")\n",
    "    \n",
    "    # Set the device to the first GPU\n",
    "    device = torch.device(\"cuda:0\")\n",
    "    print(f\"Using GPU: {torch.cuda.get_device_name(0)}\")\n",
    "else:\n",
    "    # Default to CPU if no GPU is available\n",
    "    device = torch.device(\"cpu\")\n",
    "    print(\"No GPUs available. Using CPU.\")"
   ]
  },
  {
   "cell_type": "code",
   "execution_count": 6,
   "metadata": {
    "execution": {
     "iopub.execute_input": "2024-12-07T08:45:21.114459Z",
     "iopub.status.busy": "2024-12-07T08:45:21.114000Z",
     "iopub.status.idle": "2024-12-07T08:45:21.122554Z",
     "shell.execute_reply": "2024-12-07T08:45:21.121124Z",
     "shell.execute_reply.started": "2024-12-07T08:45:21.114420Z"
    },
    "trusted": true
   },
   "outputs": [],
   "source": [
    "class BoolQDataset(Dataset):\n",
    "    def __init__(self, data, tokenizer, max_length=512):\n",
    "        self.data = data\n",
    "        self.tokenizer = tokenizer\n",
    "        self.max_length = max_length\n",
    "\n",
    "    def __getitem__(self, index):\n",
    "        row = self.data.iloc[index]\n",
    "        input_text = row['input_text']  # The context of the passage\n",
    "        target_text = row['target_text']  # The question to be generated\n",
    "\n",
    "        # Tokenize the input text (context)\n",
    "        inputs = self.tokenizer(\n",
    "            input_text,\n",
    "            max_length=self.max_length,\n",
    "            padding=\"max_length\",\n",
    "            truncation=True,\n",
    "            return_tensors=\"pt\"\n",
    "        )\n",
    "\n",
    "        # Tokenize the target text (question)\n",
    "        labels = self.tokenizer(\n",
    "            target_text,\n",
    "            max_length=self.max_length,\n",
    "            padding=\"max_length\",\n",
    "            truncation=True,\n",
    "            return_tensors=\"pt\"\n",
    "        )\n",
    "\n",
    "        # Return input_ids, attention_mask for input text, and labels (target question)\n",
    "        return {\n",
    "            \"input_ids\": inputs.input_ids.squeeze(),\n",
    "            \"attention_mask\": inputs.attention_mask.squeeze(),\n",
    "            \"labels\": labels.input_ids.squeeze()\n",
    "        }"
   ]
  },
  {
   "cell_type": "code",
   "execution_count": null,
   "metadata": {
    "execution": {
     "iopub.execute_input": "2024-12-07T08:45:43.968950Z",
     "iopub.status.busy": "2024-12-07T08:45:43.968427Z",
     "iopub.status.idle": "2024-12-07T08:45:54.930647Z",
     "shell.execute_reply": "2024-12-07T08:45:54.929462Z",
     "shell.execute_reply.started": "2024-12-07T08:45:43.968899Z"
    },
    "trusted": true
   },
   "outputs": [
    {
     "name": "stdout",
     "output_type": "stream",
     "text": [
      "Starting model training...\n",
      "\n"
     ]
    },
    {
     "name": "stderr",
     "output_type": "stream",
     "text": [
      "Training Epoch 1: 100%|██████████| 100/100 [00:02<00:00, 45.79it/s, elapsed=610.37s, rate=0.16it/s, time_left=0.00s] \n"
     ]
    },
    {
     "name": "stdout",
     "output_type": "stream",
     "text": [
      "Epoch 1/5 completed in 610.37s\n"
     ]
    },
    {
     "name": "stderr",
     "output_type": "stream",
     "text": [
      "Training Epoch 2: 100%|██████████| 100/100 [00:02<00:00, 45.72it/s, elapsed=846.90s, rate=0.12it/s, time_left=0.00s] \n"
     ]
    },
    {
     "name": "stdout",
     "output_type": "stream",
     "text": [
      "Epoch 2/5 completed in 846.90s\n"
     ]
    },
    {
     "name": "stderr",
     "output_type": "stream",
     "text": [
      "Training Epoch 3: 100%|██████████| 100/100 [00:02<00:00, 45.63it/s, elapsed=709.77s, rate=0.14it/s, time_left=0.00s] \n"
     ]
    },
    {
     "name": "stdout",
     "output_type": "stream",
     "text": [
      "Epoch 3/5 completed in 709.77s\n"
     ]
    },
    {
     "name": "stderr",
     "output_type": "stream",
     "text": [
      "Training Epoch 4: 100%|██████████| 100/100 [00:02<00:00, 45.93it/s, elapsed=630.77s, rate=0.16it/s, time_left=0.00s] \n"
     ]
    },
    {
     "name": "stdout",
     "output_type": "stream",
     "text": [
      "Epoch 4/5 completed in 630.77s\n"
     ]
    },
    {
     "name": "stderr",
     "output_type": "stream",
     "text": [
      "Training Epoch 5: 100%|██████████| 100/100 [00:02<00:00, 45.88it/s, elapsed=607.81s, rate=0.16it/s, time_left=0.00s] "
     ]
    },
    {
     "name": "stdout",
     "output_type": "stream",
     "text": [
      "Epoch 5/5 completed in 607.81s\n"
     ]
    },
    {
     "name": "stderr",
     "output_type": "stream",
     "text": [
      "\n"
     ]
    }
   ],
   "source": [
    "# To prevent unwanted warnings\n",
    "warnings.filterwarnings(\"ignore\")\n",
    "\n",
    "# Initialize tokenizer and model\n",
    "model_name = \"t5-small\"\n",
    "tokenizer = T5Tokenizer.from_pretrained(model_name)\n",
    "\n",
    "# Modify the model config to change dropout rate if needed\n",
    "config = T5Config.from_pretrained(model_name)\n",
    "config.dropout_rate = 0.1  # Adjust the dropout rate here (0.1 is typical)\n",
    "\n",
    "# Initialize model with the modified config\n",
    "model = T5ForConditionalGeneration.from_pretrained(model_name, config=config)\n",
    "\n",
    "# Move the model to the selected device\n",
    "device = torch.device(\"cuda\" if torch.cuda.is_available() else \"cpu\")\n",
    "model.to(device)\n",
    "\n",
    "# Define training parameters\n",
    "epochs = 5\n",
    "batch_size = 8\n",
    "learning_rate = 5e-5\n",
    "max_grad_norm = 1.0  # Gradient clipping threshold\n",
    "patience = 2  # Early stopping patience\n",
    "patience_counter = 0\n",
    "best_val_loss = float('inf')\n",
    "\n",
    "# Create DataLoader\n",
    "train_dataset = BoolQDataset(train_df, tokenizer)\n",
    "val_dataset = BoolQDataset(validation_df, tokenizer)\n",
    "train_loader = DataLoader(train_dataset, batch_size=batch_size, shuffle=True)\n",
    "val_loader = DataLoader(val_dataset, batch_size=batch_size)\n",
    "\n",
    "# Define optimizer with L2 regularization (weight decay)\n",
    "optimizer = AdamW(model.parameters(), lr=learning_rate, weight_decay=0.01)\n",
    "\n",
    "# Track metrics\n",
    "train_losses = []\n",
    "val_losses = []\n",
    "\n",
    "print(\"Starting model training...\\n\")\n",
    "\n",
    "# Training loop with early stopping and gradient clipping\n",
    "for epoch in range(epochs):\n",
    "    start_time = time.time()  # Record the start time of the epoch\n",
    "    print(f\"Epoch {epoch + 1}/{epochs}\")\n",
    "\n",
    "    # Training phase\n",
    "    model.train()\n",
    "    total_train_loss = 0\n",
    "    for batch in tqdm(train_loader):\n",
    "        input_ids = batch[\"input_ids\"].to(device)\n",
    "        attention_mask = batch[\"attention_mask\"].to(device)\n",
    "        labels = batch[\"labels\"].to(device)\n",
    "\n",
    "        optimizer.zero_grad()\n",
    "        outputs = model(\n",
    "            input_ids=input_ids,\n",
    "            attention_mask=attention_mask,\n",
    "            labels=labels\n",
    "        )\n",
    "        loss = outputs.loss\n",
    "        loss.backward()\n",
    "\n",
    "        # Gradient clipping\n",
    "        torch.nn.utils.clip_grad_norm_(model.parameters(), max_grad_norm)\n",
    "\n",
    "        optimizer.step()\n",
    "\n",
    "        total_train_loss += loss.item()\n",
    "\n",
    "    # Calculate training metrics\n",
    "    avg_train_loss = total_train_loss / len(train_loader)\n",
    "    train_losses.append(avg_train_loss)\n",
    "\n",
    "    # Validation phase\n",
    "    model.eval()\n",
    "    total_val_loss = 0\n",
    "    with torch.no_grad():\n",
    "        for batch in tqdm(val_loader):\n",
    "            input_ids = batch[\"input_ids\"].to(device)\n",
    "            attention_mask = batch[\"attention_mask\"].to(device)\n",
    "            labels = batch[\"labels\"].to(device)\n",
    "\n",
    "            outputs = model(\n",
    "                input_ids=input_ids,\n",
    "                attention_mask=attention_mask,\n",
    "                labels=labels\n",
    "            )\n",
    "            loss = outputs.loss\n",
    "            total_val_loss += loss.item()\n",
    "\n",
    "    # Calculate validation metrics\n",
    "    avg_val_loss = total_val_loss / len(val_loader)\n",
    "    val_losses.append(avg_val_loss)\n",
    "\n",
    "    # Calculate the time elapsed for the epoch\n",
    "    time_elapsed = time.time() - start_time  # Calculate elapsed time\n",
    "    print(f\"Epoch {epoch + 1}/{epochs} completed in {time_elapsed:.2f}s\")\n",
    "\n",
    "    # Early stopping logic\n",
    "    if avg_val_loss < best_val_loss:\n",
    "        best_val_loss = avg_val_loss\n",
    "        patience_counter = 0  # Reset counter when validation loss improves\n",
    "    else:\n",
    "        patience_counter += 1\n",
    "        if patience_counter >= patience:\n",
    "            print(\"Early stopping triggered!\")\n",
    "            break"
   ]
  },
  {
   "cell_type": "code",
   "execution_count": null,
   "metadata": {
    "execution": {
     "iopub.execute_input": "2024-12-07T08:46:36.061500Z",
     "iopub.status.busy": "2024-12-07T08:46:36.061053Z",
     "iopub.status.idle": "2024-12-07T08:46:36.519214Z",
     "shell.execute_reply": "2024-12-07T08:46:36.517858Z",
     "shell.execute_reply.started": "2024-12-07T08:46:36.061461Z"
    },
    "trusted": true
   },
   "outputs": [
    {
     "name": "stdout",
     "output_type": "stream",
     "text": [
      "\n",
      "Training Summary:\n",
      "╒═════════╤══════════════╤════════════╤════════════╕\n",
      "│   Epoch │   Train Loss │   Val Loss │   Time (s) │\n",
      "╞═════════╪══════════════╪════════════╪════════════╡\n",
      "│       1 │       1.0236 │     1.0131 │     610.37 │\n",
      "├─────────┼──────────────┼────────────┼────────────┤\n",
      "│       2 │       0.7951 │     0.872  │     846.9  │\n",
      "├─────────┼──────────────┼────────────┼────────────┤\n",
      "│       3 │       0.6331 │     0.6708 │     709.77 │\n",
      "├─────────┼──────────────┼────────────┼────────────┤\n",
      "│       4 │       0.477  │     0.4527 │     630.77 │\n",
      "├─────────┼──────────────┼────────────┼────────────┤\n",
      "│       5 │       0.2154 │     0.2892 │     607.81 │\n",
      "╘═════════╧══════════════╧════════════╧════════════╛\n"
     ]
    },
    {
     "data": {
      "image/png": "[encoded data removed]",
      "text/plain": [
       "<Figure size 1200x500 with 1 Axes>"
      ]
     },
     "metadata": {},
     "output_type": "display_data"
    }
   ],
   "source": [
    "# Prepare the table headers and rows\n",
    "headers = [\"Epoch\", \"Train Loss\", \"Val Loss\", \"Time (s)\"]\n",
    "table_data = [\n",
    "    [epoch + 1, f\"{train_losses[epoch]:.4f}\", f\"{val_losses[epoch]:.4f}\", f\"{epoch_times[epoch]:.2f}\"]\n",
    "    for epoch in range(epochs)\n",
    "]\n",
    "\n",
    "# Print the table after training\n",
    "print(\"\\nTraining Summary\")\n",
    "print(tabulate(table_data, headers=headers, tablefmt=\"grid\"))\n",
    "\n",
    "# Optionally, plot loss and accuracy\n",
    "import matplotlib.pyplot as plt\n",
    "\n",
    "# Plotting loss\n",
    "plt.figure(figsize=(12, 5))\n",
    "\n",
    "plt.subplot(1, 2, 1)\n",
    "plt.plot(train_losses, label='Train Loss')\n",
    "plt.plot(val_losses, label='Val Loss')\n",
    "plt.xlabel('Epochs')\n",
    "plt.ylabel('Loss')\n",
    "plt.legend()\n",
    "\n",
    "plt.show()"
   ]
  },
  {
   "cell_type": "code",
   "execution_count": 9,
   "metadata": {
    "execution": {
     "iopub.execute_input": "2024-12-07T08:46:53.765682Z",
     "iopub.status.busy": "2024-12-07T08:46:53.765203Z",
     "iopub.status.idle": "2024-12-07T08:46:53.774156Z",
     "shell.execute_reply": "2024-12-07T08:46:53.772767Z",
     "shell.execute_reply.started": "2024-12-07T08:46:53.765617Z"
    },
    "trusted": true
   },
   "outputs": [
    {
     "name": "stdout",
     "output_type": "stream",
     "text": [
      "\n",
      "Evaluation Metrics:\n",
      "╒════════╤══════════╤═══════════╤═══════════╤═══════════╕\n",
      "│   BLEU │   METEOR │   ROUGE-1 │   ROUGE-2 │   ROUGE-L │\n",
      "╞════════╪══════════╪═══════════╪═══════════╪═══════════╡\n",
      "│ 0.3312 │   0.4373 │    0.4705 │    0.2746 │     0.394 │\n",
      "╘════════╧══════════╧═══════════╧═══════════╧═══════════╛\n"
     ]
    }
   ],
   "source": [
    "# Evaluation function\n",
    "def evaluate(model, data_loader, tokenizer, device):\n",
    "    model.eval()\n",
    "    predictions, references = [], []\n",
    "    for batch in tqdm(data_loader):\n",
    "        input_ids = batch[\"input_ids\"].to(device)\n",
    "        attention_mask = batch[\"attention_mask\"].to(device)\n",
    "        labels = batch[\"labels\"].to(device)\n",
    "\n",
    "        with torch.no_grad():\n",
    "            outputs = model.generate(input_ids=input_ids, attention_mask=attention_mask)\n",
    "        \n",
    "        predictions.extend([tokenizer.decode(output, skip_special_tokens=True) for output in outputs])\n",
    "        references.extend([tokenizer.decode(label, skip_special_tokens=True) for label in labels])\n",
    "\n",
    "    return predictions, references\n",
    "\n",
    "# Load metrics\n",
    "bleu = load_metric(\"bleu\")\n",
    "meteor = load_metric(\"meteor\")\n",
    "rouge = load_metric(\"rouge\")\n",
    "\n",
    "# Evaluate on validation set\n",
    "preds, refs = evaluate(model, val_loader, tokenizer, device)\n",
    "\n",
    "# Calculate BLEU, METEOR, and ROUGE\n",
    "bleu_score = bleu.compute(predictions=preds, references=[[ref] for ref in refs])  # BLEU expects a list of references per prediction\n",
    "meteor_score = meteor.compute(predictions=preds, references=refs)\n",
    "rouge_score = rouge.compute(predictions=preds, references=refs)\n",
    "\n",
    "# Prepare the results for the table\n",
    "evaluation_metrics = [\n",
    "    [\"BLEU\", f\"{bleu_score['bleu']:.4f}\"],\n",
    "    [\"METEOR\", f\"{meteor_score['meteor']:.4f}\"],\n",
    "    [\"ROUGE-1\", f\"{rouge_score['rouge1'].fmeasure:.4f}\"],\n",
    "    [\"ROUGE-2\", f\"{rouge_score['rouge2'].fmeasure:.4f}\"],\n",
    "    [\"ROUGE-L\", f\"{rouge_score['rougeL'].fmeasure:.4f}\"]\n",
    "]\n",
    "\n",
    "# Print the evaluation metrics as a table\n",
    "print(\"\\n--- Evaluation Metrics ---\")\n",
    "print(tabulate(evaluation_metrics, headers=[\"Metric\", \"Score\"], tablefmt=\"fancy_grid\"))"
   ]
  },
  {
   "cell_type": "code",
   "execution_count": 10,
   "metadata": {
    "execution": {
     "iopub.execute_input": "2024-12-07T08:46:57.796281Z",
     "iopub.status.busy": "2024-12-07T08:46:57.795837Z",
     "iopub.status.idle": "2024-12-07T08:46:58.958838Z",
     "shell.execute_reply": "2024-12-07T08:46:58.957710Z",
     "shell.execute_reply.started": "2024-12-07T08:46:57.796238Z"
    },
    "trusted": true
   },
   "outputs": [
    {
     "data": {
      "text/plain": [
       "('boolq_tokenizer/tokenizer_config.json',\n",
       " 'boolq_tokenizer/special_tokens_map.json',\n",
       " 'boolq_tokenizer/spiece.model',\n",
       " 'boolq_tokenizer/added_tokens.json')"
      ]
     },
     "execution_count": 10,
     "metadata": {},
     "output_type": "execute_result"
    }
   ],
   "source": [
    "# Save the trained model and tokenizer\n",
    "model_save_path = \"boolq_model\"\n",
    "tokenizer_save_path = \"boolq_tokenizer\"\n",
    "\n",
    "model.save_pretrained(model_save_path)\n",
    "tokenizer.save_pretrained(tokenizer_save_path)"
   ]
  },
  {
   "cell_type": "markdown",
   "metadata": {},
   "source": [
    "## Analysis"
   ]
  },
  {
   "cell_type": "markdown",
   "metadata": {},
   "source": [
    "T5-small 128M (BoolQ)\n",
    "\n",
    "Convergence:\n",
    "\n",
    "    The model shows convergence as the validation loss consistently decreases across epochs. Both training and validation losses drop significantly from epoch 1 to 5.\n",
    "    By epoch 5, the validation loss (0.2892) stabilizes, indicating that further training might not yield significant improvement.\n",
    "\n",
    "Epochs for Convergence:\n",
    "\n",
    "    Convergence is achieved in 5 epochs.\n",
    "\n",
    "Overfitting or Underfitting:\n",
    "\n",
    "    There’s no evidence of overfitting as the validation loss closely follows the training loss, maintaining a consistent gap.\n",
    "    The model avoids underfitting, as it effectively minimizes both training and validation losses.\n",
    "\n",
    "Solutions Applied:\n",
    "\n",
    "    Early stopping at 5 epochs is a good choice to prevent overfitting and unnecessary training time."
   ]
  }
 ],
 "metadata": {
  "kaggle": {
   "accelerator": "none",
   "dataSources": [
    {
     "datasetId": 2688905,
     "sourceId": 4619754,
     "sourceType": "datasetVersion"
    }
   ],
   "dockerImageVersionId": 30804,
   "isGpuEnabled": false,
   "isInternetEnabled": true,
   "language": "python",
   "sourceType": "notebook"
  },
  "kernelspec": {
   "display_name": "Python 3",
   "language": "python",
   "name": "python3"
  },
  "language_info": {
   "codemirror_mode": {
    "name": "ipython",
    "version": 3
   },
   "file_extension": ".py",
   "mimetype": "text/x-python",
   "name": "python",
   "nbconvert_exporter": "python",
   "pygments_lexer": "ipython3",
   "version": "3.10.14"
  }
 },
 "nbformat": 4,
 "nbformat_minor": 4
}
