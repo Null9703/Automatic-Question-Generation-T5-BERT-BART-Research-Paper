{
 "cells": [
  {
   "cell_type": "markdown",
   "metadata": {
    "_cell_guid": "b1076dfc-b9ad-4769-8c92-a6c4dae69d19",
    "_uuid": "8f2839f25d086af736a60e9eeb907d3b93b6e0e5"
   },
   "source": [
    "**Note:**\n",
    "The provided code is to be executed in a controlled virtual enviornment via installation of specifc versions of libraries to any avoid any conflicts or dependency issues."
   ]
  },
  {
   "cell_type": "markdown",
   "metadata": {},
   "source": [
    "# MCQ Question Generation using T5 Base trained on RACE Dataset"
   ]
  },
  {
   "cell_type": "markdown",
   "metadata": {},
   "source": [
    "# Installing Dependencies:"
   ]
  },
  {
   "cell_type": "code",
   "execution_count": 1,
   "metadata": {
    "execution": {
     "iopub.execute_input": "2024-12-08T04:58:12.251857Z",
     "iopub.status.busy": "2024-12-08T04:58:12.251528Z",
     "iopub.status.idle": "2024-12-08T04:59:44.993521Z",
     "shell.execute_reply": "2024-12-08T04:59:44.992579Z",
     "shell.execute_reply.started": "2024-12-08T04:58:12.251822Z"
    },
    "trusted": true
   },
   "outputs": [
    {
     "name": "stdout",
     "output_type": "stream",
     "text": [
      "Collecting sense2vec\n",
      "  Downloading sense2vec-2.0.2-py2.py3-none-any.whl.metadata (54 kB)\n",
      "\u001b[2K     \u001b[90m━━━━━━━━━━━━━━━━━━━━━━━━━━━━━━━━━━━━━━━━\u001b[0m \u001b[32m54.5/54.5 kB\u001b[0m \u001b[31m2.1 MB/s\u001b[0m eta \u001b[36m0:00:00\u001b[0m\n",
      "\u001b[?25hRequirement already satisfied: spacy<4.0.0,>=3.0.0 in /opt/conda/lib/python3.10/site-packages (from sense2vec) (3.8.2)\n",
      "Requirement already satisfied: wasabi<1.2.0,>=0.8.1 in /opt/conda/lib/python3.10/site-packages (from sense2vec) (1.1.2)\n",
      "Requirement already satisfied: srsly<3.0.0,>=2.4.0 in /opt/conda/lib/python3.10/site-packages (from sense2vec) (2.4.8)\n",
      "Requirement already satisfied: catalogue<2.1.0,>=2.0.1 in /opt/conda/lib/python3.10/site-packages (from sense2vec) (2.0.10)\n",
      "Requirement already satisfied: numpy>=1.15.0 in /opt/conda/lib/python3.10/site-packages (from sense2vec) (1.26.4)\n",
      "Requirement already satisfied: spacy-legacy<3.1.0,>=3.0.11 in /opt/conda/lib/python3.10/site-packages (from spacy<4.0.0,>=3.0.0->sense2vec) (3.0.12)\n",
      "Requirement already satisfied: spacy-loggers<2.0.0,>=1.0.0 in /opt/conda/lib/python3.10/site-packages (from spacy<4.0.0,>=3.0.0->sense2vec) (1.0.5)\n",
      "Requirement already satisfied: murmurhash<1.1.0,>=0.28.0 in /opt/conda/lib/python3.10/site-packages (from spacy<4.0.0,>=3.0.0->sense2vec) (1.0.10)\n",
      "Requirement already satisfied: cymem<2.1.0,>=2.0.2 in /opt/conda/lib/python3.10/site-packages (from spacy<4.0.0,>=3.0.0->sense2vec) (2.0.10)\n",
      "Requirement already satisfied: preshed<3.1.0,>=3.0.2 in /opt/conda/lib/python3.10/site-packages (from spacy<4.0.0,>=3.0.0->sense2vec) (3.0.9)\n",
      "Requirement already satisfied: thinc<8.4.0,>=8.3.0 in /opt/conda/lib/python3.10/site-packages (from spacy<4.0.0,>=3.0.0->sense2vec) (8.3.2)\n",
      "Requirement already satisfied: weasel<0.5.0,>=0.1.0 in /opt/conda/lib/python3.10/site-packages (from spacy<4.0.0,>=3.0.0->sense2vec) (0.4.1)\n",
      "Requirement already satisfied: typer<1.0.0,>=0.3.0 in /opt/conda/lib/python3.10/site-packages (from spacy<4.0.0,>=3.0.0->sense2vec) (0.12.3)\n",
      "Requirement already satisfied: tqdm<5.0.0,>=4.38.0 in /opt/conda/lib/python3.10/site-packages (from spacy<4.0.0,>=3.0.0->sense2vec) (4.66.4)\n",
      "Requirement already satisfied: requests<3.0.0,>=2.13.0 in /opt/conda/lib/python3.10/site-packages (from spacy<4.0.0,>=3.0.0->sense2vec) (2.32.3)\n",
      "Requirement already satisfied: pydantic!=1.8,!=1.8.1,<3.0.0,>=1.7.4 in /opt/conda/lib/python3.10/site-packages (from spacy<4.0.0,>=3.0.0->sense2vec) (2.10.1)\n",
      "Requirement already satisfied: jinja2 in /opt/conda/lib/python3.10/site-packages (from spacy<4.0.0,>=3.0.0->sense2vec) (3.1.4)\n",
      "Requirement already satisfied: setuptools in /opt/conda/lib/python3.10/site-packages (from spacy<4.0.0,>=3.0.0->sense2vec) (70.0.0)\n",
      "Requirement already satisfied: packaging>=20.0 in /opt/conda/lib/python3.10/site-packages (from spacy<4.0.0,>=3.0.0->sense2vec) (21.3)\n",
      "Requirement already satisfied: langcodes<4.0.0,>=3.2.0 in /opt/conda/lib/python3.10/site-packages (from spacy<4.0.0,>=3.0.0->sense2vec) (3.4.1)\n",
      "Requirement already satisfied: language-data>=1.2 in /opt/conda/lib/python3.10/site-packages (from langcodes<4.0.0,>=3.2.0->spacy<4.0.0,>=3.0.0->sense2vec) (1.3.0)\n",
      "Requirement already satisfied: pyparsing!=3.0.5,>=2.0.2 in /opt/conda/lib/python3.10/site-packages (from packaging>=20.0->spacy<4.0.0,>=3.0.0->sense2vec) (3.1.2)\n",
      "Requirement already satisfied: annotated-types>=0.6.0 in /opt/conda/lib/python3.10/site-packages (from pydantic!=1.8,!=1.8.1,<3.0.0,>=1.7.4->spacy<4.0.0,>=3.0.0->sense2vec) (0.7.0)\n",
      "Requirement already satisfied: pydantic-core==2.27.1 in /opt/conda/lib/python3.10/site-packages (from pydantic!=1.8,!=1.8.1,<3.0.0,>=1.7.4->spacy<4.0.0,>=3.0.0->sense2vec) (2.27.1)\n",
      "Requirement already satisfied: typing-extensions>=4.12.2 in /opt/conda/lib/python3.10/site-packages (from pydantic!=1.8,!=1.8.1,<3.0.0,>=1.7.4->spacy<4.0.0,>=3.0.0->sense2vec) (4.12.2)\n",
      "Requirement already satisfied: charset-normalizer<4,>=2 in /opt/conda/lib/python3.10/site-packages (from requests<3.0.0,>=2.13.0->spacy<4.0.0,>=3.0.0->sense2vec) (3.3.2)\n",
      "Requirement already satisfied: idna<4,>=2.5 in /opt/conda/lib/python3.10/site-packages (from requests<3.0.0,>=2.13.0->spacy<4.0.0,>=3.0.0->sense2vec) (3.7)\n",
      "Requirement already satisfied: urllib3<3,>=1.21.1 in /opt/conda/lib/python3.10/site-packages (from requests<3.0.0,>=2.13.0->spacy<4.0.0,>=3.0.0->sense2vec) (1.26.18)\n",
      "Requirement already satisfied: certifi>=2017.4.17 in /opt/conda/lib/python3.10/site-packages (from requests<3.0.0,>=2.13.0->spacy<4.0.0,>=3.0.0->sense2vec) (2024.6.2)\n",
      "Requirement already satisfied: blis<1.1.0,>=1.0.0 in /opt/conda/lib/python3.10/site-packages (from thinc<8.4.0,>=8.3.0->spacy<4.0.0,>=3.0.0->sense2vec) (1.0.1)\n",
      "Requirement already satisfied: confection<1.0.0,>=0.0.1 in /opt/conda/lib/python3.10/site-packages (from thinc<8.4.0,>=8.3.0->spacy<4.0.0,>=3.0.0->sense2vec) (0.1.4)\n",
      "Collecting numpy>=1.15.0 (from sense2vec)\n",
      "  Downloading numpy-2.0.2-cp310-cp310-manylinux_2_17_x86_64.manylinux2014_x86_64.whl.metadata (60 kB)\n",
      "\u001b[2K     \u001b[90m━━━━━━━━━━━━━━━━━━━━━━━━━━━━━━━━━━━━━━━━\u001b[0m \u001b[32m60.9/60.9 kB\u001b[0m \u001b[31m4.7 MB/s\u001b[0m eta \u001b[36m0:00:00\u001b[0m\n",
      "\u001b[?25hRequirement already satisfied: click>=8.0.0 in /opt/conda/lib/python3.10/site-packages (from typer<1.0.0,>=0.3.0->spacy<4.0.0,>=3.0.0->sense2vec) (8.1.7)\n",
      "Requirement already satisfied: shellingham>=1.3.0 in /opt/conda/lib/python3.10/site-packages (from typer<1.0.0,>=0.3.0->spacy<4.0.0,>=3.0.0->sense2vec) (1.5.4)\n",
      "Requirement already satisfied: rich>=10.11.0 in /opt/conda/lib/python3.10/site-packages (from typer<1.0.0,>=0.3.0->spacy<4.0.0,>=3.0.0->sense2vec) (13.7.1)\n",
      "Requirement already satisfied: cloudpathlib<1.0.0,>=0.7.0 in /opt/conda/lib/python3.10/site-packages (from weasel<0.5.0,>=0.1.0->spacy<4.0.0,>=3.0.0->sense2vec) (0.20.0)\n",
      "Requirement already satisfied: smart-open<8.0.0,>=5.2.1 in /opt/conda/lib/python3.10/site-packages (from weasel<0.5.0,>=0.1.0->spacy<4.0.0,>=3.0.0->sense2vec) (7.0.4)\n",
      "Requirement already satisfied: MarkupSafe>=2.0 in /opt/conda/lib/python3.10/site-packages (from jinja2->spacy<4.0.0,>=3.0.0->sense2vec) (2.1.5)\n",
      "Requirement already satisfied: marisa-trie>=1.1.0 in /opt/conda/lib/python3.10/site-packages (from language-data>=1.2->langcodes<4.0.0,>=3.2.0->spacy<4.0.0,>=3.0.0->sense2vec) (1.2.0)\n",
      "Requirement already satisfied: markdown-it-py>=2.2.0 in /opt/conda/lib/python3.10/site-packages (from rich>=10.11.0->typer<1.0.0,>=0.3.0->spacy<4.0.0,>=3.0.0->sense2vec) (3.0.0)\n",
      "Requirement already satisfied: pygments<3.0.0,>=2.13.0 in /opt/conda/lib/python3.10/site-packages (from rich>=10.11.0->typer<1.0.0,>=0.3.0->spacy<4.0.0,>=3.0.0->sense2vec) (2.18.0)\n",
      "Requirement already satisfied: wrapt in /opt/conda/lib/python3.10/site-packages (from smart-open<8.0.0,>=5.2.1->weasel<0.5.0,>=0.1.0->spacy<4.0.0,>=3.0.0->sense2vec) (1.16.0)\n",
      "Requirement already satisfied: mdurl~=0.1 in /opt/conda/lib/python3.10/site-packages (from markdown-it-py>=2.2.0->rich>=10.11.0->typer<1.0.0,>=0.3.0->spacy<4.0.0,>=3.0.0->sense2vec) (0.1.2)\n",
      "Downloading sense2vec-2.0.2-py2.py3-none-any.whl (40 kB)\n",
      "\u001b[2K   \u001b[90m━━━━━━━━━━━━━━━━━━━━━━━━━━━━━━━━━━━━━━━━\u001b[0m \u001b[32m40.6/40.6 kB\u001b[0m \u001b[31m2.7 MB/s\u001b[0m eta \u001b[36m0:00:00\u001b[0m\n",
      "\u001b[?25hDownloading numpy-2.0.2-cp310-cp310-manylinux_2_17_x86_64.manylinux2014_x86_64.whl (19.5 MB)\n",
      "\u001b[2K   \u001b[90m━━━━━━━━━━━━━━━━━━━━━━━━━━━━━━━━━━━━━━━━\u001b[0m \u001b[32m19.5/19.5 MB\u001b[0m \u001b[31m64.2 MB/s\u001b[0m eta \u001b[36m0:00:00\u001b[0m:00:01\u001b[0m00:01\u001b[0m\n",
      "\u001b[?25hInstalling collected packages: numpy, sense2vec\n",
      "  Attempting uninstall: numpy\n",
      "    Found existing installation: numpy 1.26.4\n",
      "    Uninstalling numpy-1.26.4:\n",
      "      Successfully uninstalled numpy-1.26.4\n",
      "\u001b[31mERROR: pip's dependency resolver does not currently take into account all the packages that are installed. This behaviour is the source of the following dependency conflicts.\n",
      "cudf 24.10.1 requires cubinlinker, which is not installed.\n",
      "cudf 24.10.1 requires cupy-cuda11x>=12.0.0, which is not installed.\n",
      "cudf 24.10.1 requires libcudf==24.10.*, which is not installed.\n",
      "cudf 24.10.1 requires ptxcompiler, which is not installed.\n",
      "cuml 24.10.0 requires cupy-cuda11x>=12.0.0, which is not installed.\n",
      "cuml 24.10.0 requires cuvs==24.10.*, which is not installed.\n",
      "cuml 24.10.0 requires nvidia-cublas, which is not installed.\n",
      "cuml 24.10.0 requires nvidia-cufft, which is not installed.\n",
      "cuml 24.10.0 requires nvidia-curand, which is not installed.\n",
      "cuml 24.10.0 requires nvidia-cusolver, which is not installed.\n",
      "cuml 24.10.0 requires nvidia-cusparse, which is not installed.\n",
      "dask-cudf 24.10.1 requires cupy-cuda11x>=12.0.0, which is not installed.\n",
      "pylibcudf 24.10.1 requires libcudf==24.10.*, which is not installed.\n",
      "pylibraft 24.10.0 requires nvidia-cublas, which is not installed.\n",
      "pylibraft 24.10.0 requires nvidia-curand, which is not installed.\n",
      "pylibraft 24.10.0 requires nvidia-cusolver, which is not installed.\n",
      "pylibraft 24.10.0 requires nvidia-cusparse, which is not installed.\n",
      "ucxx 0.40.0 requires libucxx==0.40.*, which is not installed.\n",
      "apache-beam 2.46.0 requires cloudpickle~=2.2.1, but you have cloudpickle 3.1.0 which is incompatible.\n",
      "apache-beam 2.46.0 requires dill<0.3.2,>=0.3.1.1, but you have dill 0.3.8 which is incompatible.\n",
      "apache-beam 2.46.0 requires numpy<1.25.0,>=1.14.3, but you have numpy 2.0.2 which is incompatible.\n",
      "apache-beam 2.46.0 requires pyarrow<10.0.0,>=3.0.0, but you have pyarrow 17.0.0 which is incompatible.\n",
      "catboost 1.2.7 requires numpy<2.0,>=1.16.0, but you have numpy 2.0.2 which is incompatible.\n",
      "cudf 24.10.1 requires cuda-python<12.0a0,>=11.7.1, but you have cuda-python 12.6.2.post1 which is incompatible.\n",
      "cudf 24.10.1 requires pandas<2.2.3dev0,>=2.0, but you have pandas 2.2.3 which is incompatible.\n",
      "dask-cudf 24.10.1 requires pandas<2.2.3dev0,>=2.0, but you have pandas 2.2.3 which is incompatible.\n",
      "gensim 4.3.3 requires numpy<2.0,>=1.18.5, but you have numpy 2.0.2 which is incompatible.\n",
      "gensim 4.3.3 requires scipy<1.14.0,>=1.7.0, but you have scipy 1.14.1 which is incompatible.\n",
      "ibis-framework 7.1.0 requires numpy<2,>=1, but you have numpy 2.0.2 which is incompatible.\n",
      "ibis-framework 7.1.0 requires pyarrow<15,>=2, but you have pyarrow 17.0.0 which is incompatible.\n",
      "libpysal 4.9.2 requires packaging>=22, but you have packaging 21.3 which is incompatible.\n",
      "libpysal 4.9.2 requires shapely>=2.0.1, but you have shapely 1.8.5.post1 which is incompatible.\n",
      "matplotlib 3.7.5 requires numpy<2,>=1.20, but you have numpy 2.0.2 which is incompatible.\n",
      "mlxtend 0.23.3 requires scikit-learn>=1.3.1, but you have scikit-learn 1.2.2 which is incompatible.\n",
      "plotnine 0.14.3 requires matplotlib>=3.8.0, but you have matplotlib 3.7.5 which is incompatible.\n",
      "pylibcudf 24.10.1 requires cuda-python<12.0a0,>=11.7.1, but you have cuda-python 12.6.2.post1 which is incompatible.\n",
      "rmm 24.10.0 requires cuda-python<12.0a0,>=11.7.1, but you have cuda-python 12.6.2.post1 which is incompatible.\n",
      "tensorflow 2.16.1 requires numpy<2.0.0,>=1.23.5; python_version <= \"3.11\", but you have numpy 2.0.2 which is incompatible.\n",
      "tensorflow-transform 0.14.0 requires numpy<2,>=1.16, but you have numpy 2.0.2 which is incompatible.\n",
      "xarray 2024.11.0 requires packaging>=23.2, but you have packaging 21.3 which is incompatible.\n",
      "ydata-profiling 4.12.0 requires scipy<1.14,>=1.4.1, but you have scipy 1.14.1 which is incompatible.\u001b[0m\u001b[31m\n",
      "\u001b[0mSuccessfully installed numpy-2.0.2 sense2vec-2.0.2\n",
      "Requirement already satisfied: transformers in /opt/conda/lib/python3.10/site-packages (4.46.3)\n",
      "Requirement already satisfied: filelock in /opt/conda/lib/python3.10/site-packages (from transformers) (3.15.1)\n",
      "Requirement already satisfied: huggingface-hub<1.0,>=0.23.2 in /opt/conda/lib/python3.10/site-packages (from transformers) (0.26.2)\n",
      "Requirement already satisfied: numpy>=1.17 in /opt/conda/lib/python3.10/site-packages (from transformers) (2.0.2)\n",
      "Requirement already satisfied: packaging>=20.0 in /opt/conda/lib/python3.10/site-packages (from transformers) (21.3)\n",
      "Requirement already satisfied: pyyaml>=5.1 in /opt/conda/lib/python3.10/site-packages (from transformers) (6.0.2)\n",
      "Requirement already satisfied: regex!=2019.12.17 in /opt/conda/lib/python3.10/site-packages (from transformers) (2024.5.15)\n",
      "Requirement already satisfied: requests in /opt/conda/lib/python3.10/site-packages (from transformers) (2.32.3)\n",
      "Requirement already satisfied: tokenizers<0.21,>=0.20 in /opt/conda/lib/python3.10/site-packages (from transformers) (0.20.3)\n",
      "Requirement already satisfied: safetensors>=0.4.1 in /opt/conda/lib/python3.10/site-packages (from transformers) (0.4.5)\n",
      "Requirement already satisfied: tqdm>=4.27 in /opt/conda/lib/python3.10/site-packages (from transformers) (4.66.4)\n",
      "Requirement already satisfied: fsspec>=2023.5.0 in /opt/conda/lib/python3.10/site-packages (from huggingface-hub<1.0,>=0.23.2->transformers) (2024.6.0)\n",
      "Requirement already satisfied: typing-extensions>=3.7.4.3 in /opt/conda/lib/python3.10/site-packages (from huggingface-hub<1.0,>=0.23.2->transformers) (4.12.2)\n",
      "Requirement already satisfied: pyparsing!=3.0.5,>=2.0.2 in /opt/conda/lib/python3.10/site-packages (from packaging>=20.0->transformers) (3.1.2)\n",
      "Requirement already satisfied: charset-normalizer<4,>=2 in /opt/conda/lib/python3.10/site-packages (from requests->transformers) (3.3.2)\n",
      "Requirement already satisfied: idna<4,>=2.5 in /opt/conda/lib/python3.10/site-packages (from requests->transformers) (3.7)\n",
      "Requirement already satisfied: urllib3<3,>=1.21.1 in /opt/conda/lib/python3.10/site-packages (from requests->transformers) (1.26.18)\n",
      "Requirement already satisfied: certifi>=2017.4.17 in /opt/conda/lib/python3.10/site-packages (from requests->transformers) (2024.6.2)\n",
      "Requirement already satisfied: torchinfo in /opt/conda/lib/python3.10/site-packages (1.8.0)\n",
      "Requirement already satisfied: torch in /opt/conda/lib/python3.10/site-packages (2.4.0)\n",
      "Requirement already satisfied: filelock in /opt/conda/lib/python3.10/site-packages (from torch) (3.15.1)\n",
      "Requirement already satisfied: typing-extensions>=4.8.0 in /opt/conda/lib/python3.10/site-packages (from torch) (4.12.2)\n",
      "Requirement already satisfied: sympy in /opt/conda/lib/python3.10/site-packages (from torch) (1.13.3)\n",
      "Requirement already satisfied: networkx in /opt/conda/lib/python3.10/site-packages (from torch) (3.3)\n",
      "Requirement already satisfied: jinja2 in /opt/conda/lib/python3.10/site-packages (from torch) (3.1.4)\n",
      "Requirement already satisfied: fsspec in /opt/conda/lib/python3.10/site-packages (from torch) (2024.6.0)\n",
      "Requirement already satisfied: MarkupSafe>=2.0 in /opt/conda/lib/python3.10/site-packages (from jinja2->torch) (2.1.5)\n",
      "Requirement already satisfied: mpmath<1.4,>=1.1.0 in /opt/conda/lib/python3.10/site-packages (from sympy->torch) (1.3.0)\n",
      "Requirement already satisfied: datasets in /opt/conda/lib/python3.10/site-packages (3.1.0)\n",
      "Requirement already satisfied: filelock in /opt/conda/lib/python3.10/site-packages (from datasets) (3.15.1)\n",
      "Requirement already satisfied: numpy>=1.17 in /opt/conda/lib/python3.10/site-packages (from datasets) (2.0.2)\n",
      "Requirement already satisfied: pyarrow>=15.0.0 in /opt/conda/lib/python3.10/site-packages (from datasets) (17.0.0)\n",
      "Requirement already satisfied: dill<0.3.9,>=0.3.0 in /opt/conda/lib/python3.10/site-packages (from datasets) (0.3.8)\n",
      "Requirement already satisfied: pandas in /opt/conda/lib/python3.10/site-packages (from datasets) (2.2.3)\n",
      "Requirement already satisfied: requests>=2.32.2 in /opt/conda/lib/python3.10/site-packages (from datasets) (2.32.3)\n",
      "Requirement already satisfied: tqdm>=4.66.3 in /opt/conda/lib/python3.10/site-packages (from datasets) (4.66.4)\n",
      "Requirement already satisfied: xxhash in /opt/conda/lib/python3.10/site-packages (from datasets) (3.4.1)\n",
      "Requirement already satisfied: multiprocess<0.70.17 in /opt/conda/lib/python3.10/site-packages (from datasets) (0.70.16)\n",
      "Requirement already satisfied: fsspec<=2024.9.0,>=2023.1.0 in /opt/conda/lib/python3.10/site-packages (from fsspec[http]<=2024.9.0,>=2023.1.0->datasets) (2024.6.0)\n",
      "Requirement already satisfied: aiohttp in /opt/conda/lib/python3.10/site-packages (from datasets) (3.9.5)\n",
      "Requirement already satisfied: huggingface-hub>=0.23.0 in /opt/conda/lib/python3.10/site-packages (from datasets) (0.26.2)\n",
      "Requirement already satisfied: packaging in /opt/conda/lib/python3.10/site-packages (from datasets) (21.3)\n",
      "Requirement already satisfied: pyyaml>=5.1 in /opt/conda/lib/python3.10/site-packages (from datasets) (6.0.2)\n",
      "Requirement already satisfied: aiosignal>=1.1.2 in /opt/conda/lib/python3.10/site-packages (from aiohttp->datasets) (1.3.1)\n",
      "Requirement already satisfied: attrs>=17.3.0 in /opt/conda/lib/python3.10/site-packages (from aiohttp->datasets) (23.2.0)\n",
      "Requirement already satisfied: frozenlist>=1.1.1 in /opt/conda/lib/python3.10/site-packages (from aiohttp->datasets) (1.4.1)\n",
      "Requirement already satisfied: multidict<7.0,>=4.5 in /opt/conda/lib/python3.10/site-packages (from aiohttp->datasets) (6.0.5)\n",
      "Requirement already satisfied: yarl<2.0,>=1.0 in /opt/conda/lib/python3.10/site-packages (from aiohttp->datasets) (1.9.4)\n",
      "Requirement already satisfied: async-timeout<5.0,>=4.0 in /opt/conda/lib/python3.10/site-packages (from aiohttp->datasets) (4.0.3)\n",
      "Requirement already satisfied: typing-extensions>=3.7.4.3 in /opt/conda/lib/python3.10/site-packages (from huggingface-hub>=0.23.0->datasets) (4.12.2)\n",
      "Requirement already satisfied: pyparsing!=3.0.5,>=2.0.2 in /opt/conda/lib/python3.10/site-packages (from packaging->datasets) (3.1.2)\n",
      "Requirement already satisfied: charset-normalizer<4,>=2 in /opt/conda/lib/python3.10/site-packages (from requests>=2.32.2->datasets) (3.3.2)\n",
      "Requirement already satisfied: idna<4,>=2.5 in /opt/conda/lib/python3.10/site-packages (from requests>=2.32.2->datasets) (3.7)\n",
      "Requirement already satisfied: urllib3<3,>=1.21.1 in /opt/conda/lib/python3.10/site-packages (from requests>=2.32.2->datasets) (1.26.18)\n",
      "Requirement already satisfied: certifi>=2017.4.17 in /opt/conda/lib/python3.10/site-packages (from requests>=2.32.2->datasets) (2024.6.2)\n",
      "Requirement already satisfied: python-dateutil>=2.8.2 in /opt/conda/lib/python3.10/site-packages (from pandas->datasets) (2.9.0.post0)\n",
      "Requirement already satisfied: pytz>=2020.1 in /opt/conda/lib/python3.10/site-packages (from pandas->datasets) (2024.1)\n",
      "Requirement already satisfied: tzdata>=2022.7 in /opt/conda/lib/python3.10/site-packages (from pandas->datasets) (2024.1)\n",
      "Requirement already satisfied: six>=1.5 in /opt/conda/lib/python3.10/site-packages (from python-dateutil>=2.8.2->pandas->datasets) (1.16.0)\n",
      "Requirement already satisfied: matplotlib in /opt/conda/lib/python3.10/site-packages (3.7.5)\n",
      "Requirement already satisfied: contourpy>=1.0.1 in /opt/conda/lib/python3.10/site-packages (from matplotlib) (1.2.1)\n",
      "Requirement already satisfied: cycler>=0.10 in /opt/conda/lib/python3.10/site-packages (from matplotlib) (0.12.1)\n",
      "Requirement already satisfied: fonttools>=4.22.0 in /opt/conda/lib/python3.10/site-packages (from matplotlib) (4.53.0)\n",
      "Requirement already satisfied: kiwisolver>=1.0.1 in /opt/conda/lib/python3.10/site-packages (from matplotlib) (1.4.5)\n",
      "Collecting numpy<2,>=1.20 (from matplotlib)\n",
      "  Downloading numpy-1.26.4-cp310-cp310-manylinux_2_17_x86_64.manylinux2014_x86_64.whl.metadata (61 kB)\n",
      "\u001b[2K     \u001b[90m━━━━━━━━━━━━━━━━━━━━━━━━━━━━━━━━━━━━━━━━\u001b[0m \u001b[32m61.0/61.0 kB\u001b[0m \u001b[31m2.3 MB/s\u001b[0m eta \u001b[36m0:00:00\u001b[0m\n",
      "\u001b[?25hRequirement already satisfied: packaging>=20.0 in /opt/conda/lib/python3.10/site-packages (from matplotlib) (21.3)\n",
      "Requirement already satisfied: pillow>=6.2.0 in /opt/conda/lib/python3.10/site-packages (from matplotlib) (10.3.0)\n",
      "Requirement already satisfied: pyparsing>=2.3.1 in /opt/conda/lib/python3.10/site-packages (from matplotlib) (3.1.2)\n",
      "Requirement already satisfied: python-dateutil>=2.7 in /opt/conda/lib/python3.10/site-packages (from matplotlib) (2.9.0.post0)\n",
      "Requirement already satisfied: six>=1.5 in /opt/conda/lib/python3.10/site-packages (from python-dateutil>=2.7->matplotlib) (1.16.0)\n",
      "Downloading numpy-1.26.4-cp310-cp310-manylinux_2_17_x86_64.manylinux2014_x86_64.whl (18.2 MB)\n",
      "\u001b[2K   \u001b[90m━━━━━━━━━━━━━━━━━━━━━━━━━━━━━━━━━━━━━━━━\u001b[0m \u001b[32m18.2/18.2 MB\u001b[0m \u001b[31m86.5 MB/s\u001b[0m eta \u001b[36m0:00:00\u001b[0m:00:01\u001b[0m00:01\u001b[0m\n",
      "\u001b[?25hInstalling collected packages: numpy\n",
      "  Attempting uninstall: numpy\n",
      "    Found existing installation: numpy 2.0.2\n",
      "    Uninstalling numpy-2.0.2:\n",
      "      Successfully uninstalled numpy-2.0.2\n",
      "\u001b[31mERROR: pip's dependency resolver does not currently take into account all the packages that are installed. This behaviour is the source of the following dependency conflicts.\n",
      "cudf 24.10.1 requires cubinlinker, which is not installed.\n",
      "cudf 24.10.1 requires cupy-cuda11x>=12.0.0, which is not installed.\n",
      "cudf 24.10.1 requires libcudf==24.10.*, which is not installed.\n",
      "cudf 24.10.1 requires ptxcompiler, which is not installed.\n",
      "cuml 24.10.0 requires cupy-cuda11x>=12.0.0, which is not installed.\n",
      "cuml 24.10.0 requires cuvs==24.10.*, which is not installed.\n",
      "cuml 24.10.0 requires nvidia-cublas, which is not installed.\n",
      "cuml 24.10.0 requires nvidia-cufft, which is not installed.\n",
      "cuml 24.10.0 requires nvidia-curand, which is not installed.\n",
      "cuml 24.10.0 requires nvidia-cusolver, which is not installed.\n",
      "cuml 24.10.0 requires nvidia-cusparse, which is not installed.\n",
      "dask-cudf 24.10.1 requires cupy-cuda11x>=12.0.0, which is not installed.\n",
      "pylibcudf 24.10.1 requires libcudf==24.10.*, which is not installed.\n",
      "pylibraft 24.10.0 requires nvidia-cublas, which is not installed.\n",
      "pylibraft 24.10.0 requires nvidia-curand, which is not installed.\n",
      "pylibraft 24.10.0 requires nvidia-cusolver, which is not installed.\n",
      "pylibraft 24.10.0 requires nvidia-cusparse, which is not installed.\n",
      "ucxx 0.40.0 requires libucxx==0.40.*, which is not installed.\n",
      "apache-beam 2.46.0 requires cloudpickle~=2.2.1, but you have cloudpickle 3.1.0 which is incompatible.\n",
      "apache-beam 2.46.0 requires dill<0.3.2,>=0.3.1.1, but you have dill 0.3.8 which is incompatible.\n",
      "apache-beam 2.46.0 requires numpy<1.25.0,>=1.14.3, but you have numpy 1.26.4 which is incompatible.\n",
      "apache-beam 2.46.0 requires pyarrow<10.0.0,>=3.0.0, but you have pyarrow 17.0.0 which is incompatible.\n",
      "blis 1.0.1 requires numpy<3.0.0,>=2.0.0, but you have numpy 1.26.4 which is incompatible.\n",
      "cesium 0.12.3 requires numpy<3.0,>=2.0, but you have numpy 1.26.4 which is incompatible.\n",
      "cudf 24.10.1 requires cuda-python<12.0a0,>=11.7.1, but you have cuda-python 12.6.2.post1 which is incompatible.\n",
      "cudf 24.10.1 requires pandas<2.2.3dev0,>=2.0, but you have pandas 2.2.3 which is incompatible.\n",
      "dask-cudf 24.10.1 requires pandas<2.2.3dev0,>=2.0, but you have pandas 2.2.3 which is incompatible.\n",
      "gensim 4.3.3 requires scipy<1.14.0,>=1.7.0, but you have scipy 1.14.1 which is incompatible.\n",
      "ibis-framework 7.1.0 requires pyarrow<15,>=2, but you have pyarrow 17.0.0 which is incompatible.\n",
      "libpysal 4.9.2 requires packaging>=22, but you have packaging 21.3 which is incompatible.\n",
      "libpysal 4.9.2 requires shapely>=2.0.1, but you have shapely 1.8.5.post1 which is incompatible.\n",
      "mlxtend 0.23.3 requires scikit-learn>=1.3.1, but you have scikit-learn 1.2.2 which is incompatible.\n",
      "plotnine 0.14.3 requires matplotlib>=3.8.0, but you have matplotlib 3.7.5 which is incompatible.\n",
      "pylibcudf 24.10.1 requires cuda-python<12.0a0,>=11.7.1, but you have cuda-python 12.6.2.post1 which is incompatible.\n",
      "rmm 24.10.0 requires cuda-python<12.0a0,>=11.7.1, but you have cuda-python 12.6.2.post1 which is incompatible.\n",
      "thinc 8.3.2 requires numpy<2.1.0,>=2.0.0; python_version >= \"3.9\", but you have numpy 1.26.4 which is incompatible.\n",
      "xarray 2024.11.0 requires packaging>=23.2, but you have packaging 21.3 which is incompatible.\n",
      "ydata-profiling 4.12.0 requires scipy<1.14,>=1.4.1, but you have scipy 1.14.1 which is incompatible.\u001b[0m\u001b[31m\n",
      "\u001b[0mSuccessfully installed numpy-1.26.4\n",
      "Requirement already satisfied: tqdm in /opt/conda/lib/python3.10/site-packages (4.66.4)\n",
      "Collecting evaluate\n",
      "  Downloading evaluate-0.4.3-py3-none-any.whl.metadata (9.2 kB)\n",
      "Requirement already satisfied: datasets>=2.0.0 in /opt/conda/lib/python3.10/site-packages (from evaluate) (3.1.0)\n",
      "Requirement already satisfied: numpy>=1.17 in /opt/conda/lib/python3.10/site-packages (from evaluate) (1.26.4)\n",
      "Requirement already satisfied: dill in /opt/conda/lib/python3.10/site-packages (from evaluate) (0.3.8)\n",
      "Requirement already satisfied: pandas in /opt/conda/lib/python3.10/site-packages (from evaluate) (2.2.3)\n",
      "Requirement already satisfied: requests>=2.19.0 in /opt/conda/lib/python3.10/site-packages (from evaluate) (2.32.3)\n",
      "Requirement already satisfied: tqdm>=4.62.1 in /opt/conda/lib/python3.10/site-packages (from evaluate) (4.66.4)\n",
      "Requirement already satisfied: xxhash in /opt/conda/lib/python3.10/site-packages (from evaluate) (3.4.1)\n",
      "Requirement already satisfied: multiprocess in /opt/conda/lib/python3.10/site-packages (from evaluate) (0.70.16)\n",
      "Requirement already satisfied: fsspec>=2021.05.0 in /opt/conda/lib/python3.10/site-packages (from fsspec[http]>=2021.05.0->evaluate) (2024.6.0)\n",
      "Requirement already satisfied: huggingface-hub>=0.7.0 in /opt/conda/lib/python3.10/site-packages (from evaluate) (0.26.2)\n",
      "Requirement already satisfied: packaging in /opt/conda/lib/python3.10/site-packages (from evaluate) (21.3)\n",
      "Requirement already satisfied: filelock in /opt/conda/lib/python3.10/site-packages (from datasets>=2.0.0->evaluate) (3.15.1)\n",
      "Requirement already satisfied: pyarrow>=15.0.0 in /opt/conda/lib/python3.10/site-packages (from datasets>=2.0.0->evaluate) (17.0.0)\n",
      "Requirement already satisfied: aiohttp in /opt/conda/lib/python3.10/site-packages (from datasets>=2.0.0->evaluate) (3.9.5)\n",
      "Requirement already satisfied: pyyaml>=5.1 in /opt/conda/lib/python3.10/site-packages (from datasets>=2.0.0->evaluate) (6.0.2)\n",
      "Requirement already satisfied: typing-extensions>=3.7.4.3 in /opt/conda/lib/python3.10/site-packages (from huggingface-hub>=0.7.0->evaluate) (4.12.2)\n",
      "Requirement already satisfied: pyparsing!=3.0.5,>=2.0.2 in /opt/conda/lib/python3.10/site-packages (from packaging->evaluate) (3.1.2)\n",
      "Requirement already satisfied: charset-normalizer<4,>=2 in /opt/conda/lib/python3.10/site-packages (from requests>=2.19.0->evaluate) (3.3.2)\n",
      "Requirement already satisfied: idna<4,>=2.5 in /opt/conda/lib/python3.10/site-packages (from requests>=2.19.0->evaluate) (3.7)\n",
      "Requirement already satisfied: urllib3<3,>=1.21.1 in /opt/conda/lib/python3.10/site-packages (from requests>=2.19.0->evaluate) (1.26.18)\n",
      "Requirement already satisfied: certifi>=2017.4.17 in /opt/conda/lib/python3.10/site-packages (from requests>=2.19.0->evaluate) (2024.6.2)\n",
      "Requirement already satisfied: python-dateutil>=2.8.2 in /opt/conda/lib/python3.10/site-packages (from pandas->evaluate) (2.9.0.post0)\n",
      "Requirement already satisfied: pytz>=2020.1 in /opt/conda/lib/python3.10/site-packages (from pandas->evaluate) (2024.1)\n",
      "Requirement already satisfied: tzdata>=2022.7 in /opt/conda/lib/python3.10/site-packages (from pandas->evaluate) (2024.1)\n",
      "Requirement already satisfied: aiosignal>=1.1.2 in /opt/conda/lib/python3.10/site-packages (from aiohttp->datasets>=2.0.0->evaluate) (1.3.1)\n",
      "Requirement already satisfied: attrs>=17.3.0 in /opt/conda/lib/python3.10/site-packages (from aiohttp->datasets>=2.0.0->evaluate) (23.2.0)\n",
      "Requirement already satisfied: frozenlist>=1.1.1 in /opt/conda/lib/python3.10/site-packages (from aiohttp->datasets>=2.0.0->evaluate) (1.4.1)\n",
      "Requirement already satisfied: multidict<7.0,>=4.5 in /opt/conda/lib/python3.10/site-packages (from aiohttp->datasets>=2.0.0->evaluate) (6.0.5)\n",
      "Requirement already satisfied: yarl<2.0,>=1.0 in /opt/conda/lib/python3.10/site-packages (from aiohttp->datasets>=2.0.0->evaluate) (1.9.4)\n",
      "Requirement already satisfied: async-timeout<5.0,>=4.0 in /opt/conda/lib/python3.10/site-packages (from aiohttp->datasets>=2.0.0->evaluate) (4.0.3)\n",
      "Requirement already satisfied: six>=1.5 in /opt/conda/lib/python3.10/site-packages (from python-dateutil>=2.8.2->pandas->evaluate) (1.16.0)\n",
      "Downloading evaluate-0.4.3-py3-none-any.whl (84 kB)\n",
      "\u001b[2K   \u001b[90m━━━━━━━━━━━━━━━━━━━━━━━━━━━━━━━━━━━━━━━━\u001b[0m \u001b[32m84.0/84.0 kB\u001b[0m \u001b[31m3.1 MB/s\u001b[0m eta \u001b[36m0:00:00\u001b[0m\n",
      "\u001b[?25hInstalling collected packages: evaluate\n",
      "Successfully installed evaluate-0.4.3\n",
      "Requirement already satisfied: pytorch-lightning in /opt/conda/lib/python3.10/site-packages (2.4.0)\n",
      "Requirement already satisfied: torch>=2.1.0 in /opt/conda/lib/python3.10/site-packages (from pytorch-lightning) (2.4.0)\n",
      "Requirement already satisfied: tqdm>=4.57.0 in /opt/conda/lib/python3.10/site-packages (from pytorch-lightning) (4.66.4)\n",
      "Requirement already satisfied: PyYAML>=5.4 in /opt/conda/lib/python3.10/site-packages (from pytorch-lightning) (6.0.2)\n",
      "Requirement already satisfied: fsspec>=2022.5.0 in /opt/conda/lib/python3.10/site-packages (from fsspec[http]>=2022.5.0->pytorch-lightning) (2024.6.0)\n",
      "Requirement already satisfied: torchmetrics>=0.7.0 in /opt/conda/lib/python3.10/site-packages (from pytorch-lightning) (1.6.0)\n",
      "Requirement already satisfied: packaging>=20.0 in /opt/conda/lib/python3.10/site-packages (from pytorch-lightning) (21.3)\n",
      "Requirement already satisfied: typing-extensions>=4.4.0 in /opt/conda/lib/python3.10/site-packages (from pytorch-lightning) (4.12.2)\n",
      "Requirement already satisfied: lightning-utilities>=0.10.0 in /opt/conda/lib/python3.10/site-packages (from pytorch-lightning) (0.11.9)\n",
      "Requirement already satisfied: aiohttp!=4.0.0a0,!=4.0.0a1 in /opt/conda/lib/python3.10/site-packages (from fsspec[http]>=2022.5.0->pytorch-lightning) (3.9.5)\n",
      "Requirement already satisfied: setuptools in /opt/conda/lib/python3.10/site-packages (from lightning-utilities>=0.10.0->pytorch-lightning) (70.0.0)\n",
      "Requirement already satisfied: pyparsing!=3.0.5,>=2.0.2 in /opt/conda/lib/python3.10/site-packages (from packaging>=20.0->pytorch-lightning) (3.1.2)\n",
      "Requirement already satisfied: filelock in /opt/conda/lib/python3.10/site-packages (from torch>=2.1.0->pytorch-lightning) (3.15.1)\n",
      "Requirement already satisfied: sympy in /opt/conda/lib/python3.10/site-packages (from torch>=2.1.0->pytorch-lightning) (1.13.3)\n",
      "Requirement already satisfied: networkx in /opt/conda/lib/python3.10/site-packages (from torch>=2.1.0->pytorch-lightning) (3.3)\n",
      "Requirement already satisfied: jinja2 in /opt/conda/lib/python3.10/site-packages (from torch>=2.1.0->pytorch-lightning) (3.1.4)\n",
      "Requirement already satisfied: numpy>1.20.0 in /opt/conda/lib/python3.10/site-packages (from torchmetrics>=0.7.0->pytorch-lightning) (1.26.4)\n",
      "Requirement already satisfied: aiosignal>=1.1.2 in /opt/conda/lib/python3.10/site-packages (from aiohttp!=4.0.0a0,!=4.0.0a1->fsspec[http]>=2022.5.0->pytorch-lightning) (1.3.1)\n",
      "Requirement already satisfied: attrs>=17.3.0 in /opt/conda/lib/python3.10/site-packages (from aiohttp!=4.0.0a0,!=4.0.0a1->fsspec[http]>=2022.5.0->pytorch-lightning) (23.2.0)\n",
      "Requirement already satisfied: frozenlist>=1.1.1 in /opt/conda/lib/python3.10/site-packages (from aiohttp!=4.0.0a0,!=4.0.0a1->fsspec[http]>=2022.5.0->pytorch-lightning) (1.4.1)\n",
      "Requirement already satisfied: multidict<7.0,>=4.5 in /opt/conda/lib/python3.10/site-packages (from aiohttp!=4.0.0a0,!=4.0.0a1->fsspec[http]>=2022.5.0->pytorch-lightning) (6.0.5)\n",
      "Requirement already satisfied: yarl<2.0,>=1.0 in /opt/conda/lib/python3.10/site-packages (from aiohttp!=4.0.0a0,!=4.0.0a1->fsspec[http]>=2022.5.0->pytorch-lightning) (1.9.4)\n",
      "Requirement already satisfied: async-timeout<5.0,>=4.0 in /opt/conda/lib/python3.10/site-packages (from aiohttp!=4.0.0a0,!=4.0.0a1->fsspec[http]>=2022.5.0->pytorch-lightning) (4.0.3)\n",
      "Requirement already satisfied: MarkupSafe>=2.0 in /opt/conda/lib/python3.10/site-packages (from jinja2->torch>=2.1.0->pytorch-lightning) (2.1.5)\n",
      "Requirement already satisfied: mpmath<1.4,>=1.1.0 in /opt/conda/lib/python3.10/site-packages (from sympy->torch>=2.1.0->pytorch-lightning) (1.3.0)\n",
      "Requirement already satisfied: idna>=2.0 in /opt/conda/lib/python3.10/site-packages (from yarl<2.0,>=1.0->aiohttp!=4.0.0a0,!=4.0.0a1->fsspec[http]>=2022.5.0->pytorch-lightning) (3.7)\n",
      "Collecting rouge-score\n",
      "  Downloading rouge_score-0.1.2.tar.gz (17 kB)\n",
      "  Preparing metadata (setup.py) ... \u001b[?25ldone\n",
      "\u001b[?25hRequirement already satisfied: absl-py in /opt/conda/lib/python3.10/site-packages (from rouge-score) (1.4.0)\n",
      "Requirement already satisfied: nltk in /opt/conda/lib/python3.10/site-packages (from rouge-score) (3.2.4)\n",
      "Requirement already satisfied: numpy in /opt/conda/lib/python3.10/site-packages (from rouge-score) (1.26.4)\n",
      "Requirement already satisfied: six>=1.14.0 in /opt/conda/lib/python3.10/site-packages (from rouge-score) (1.16.0)\n",
      "Building wheels for collected packages: rouge-score\n",
      "  Building wheel for rouge-score (setup.py) ... \u001b[?25ldone\n",
      "\u001b[?25h  Created wheel for rouge-score: filename=rouge_score-0.1.2-py3-none-any.whl size=24934 sha256=9d50848750a0382ce850178fbce55dc402e3367548757fcff77b5c098adb3037\n",
      "  Stored in directory: /root/.cache/pip/wheels/5f/dd/89/461065a73be61a532ff8599a28e9beef17985c9e9c31e541b4\n",
      "Successfully built rouge-score\n",
      "Installing collected packages: rouge-score\n",
      "Successfully installed rouge-score-0.1.2\n"
     ]
    }
   ],
   "source": [
    "!pip install sense2vec\n",
    "!pip install transformers\n",
    "!pip install torchinfo\n",
    "!pip install torch\n",
    "!pip install datasets\n",
    "!pip install matplotlib\n",
    "!pip install tqdm\n",
    "!pip install evaluate\n",
    "!pip install pytorch-lightning\n",
    "!pip install rouge-score"
   ]
  },
  {
   "cell_type": "markdown",
   "metadata": {},
   "source": [
    "# Including Libraries:"
   ]
  },
  {
   "cell_type": "code",
   "execution_count": 3,
   "metadata": {
    "execution": {
     "iopub.execute_input": "2024-12-08T05:00:15.757865Z",
     "iopub.status.busy": "2024-12-08T05:00:15.756898Z",
     "iopub.status.idle": "2024-12-08T05:00:15.762501Z",
     "shell.execute_reply": "2024-12-08T05:00:15.761663Z",
     "shell.execute_reply.started": "2024-12-08T05:00:15.757829Z"
    },
    "trusted": true
   },
   "outputs": [],
   "source": [
    "import time\n",
    "import torch\n",
    "import evaluate \n",
    "import numpy as np\n",
    "import pandas as pd\n",
    "from tqdm import tqdm\n",
    "import seaborn as sns\n",
    "from torchinfo import summary\n",
    "from tabulate import tabulate\n",
    "import matplotlib.pyplot as plt\n",
    "from torch.utils.data import DataLoader, Dataset\n",
    "from sklearn.model_selection import train_test_split\n",
    "from transformers import T5ForConditionalGeneration, T5Tokenizer, AdamW, T5Config"
   ]
  },
  {
   "cell_type": "markdown",
   "metadata": {},
   "source": [
    "# Data Loading and Pre Processing:"
   ]
  },
  {
   "cell_type": "code",
   "execution_count": 12,
   "metadata": {
    "execution": {
     "iopub.execute_input": "2024-12-08T04:30:35.713626Z",
     "iopub.status.busy": "2024-12-08T04:30:35.713136Z",
     "iopub.status.idle": "2024-12-08T04:30:37.507351Z",
     "shell.execute_reply": "2024-12-08T04:30:37.505930Z",
     "shell.execute_reply.started": "2024-12-08T04:30:35.713585Z"
    },
    "trusted": true
   },
   "outputs": [
    {
     "name": "stdout",
     "output_type": "stream",
     "text": [
      "Dataset Info:\n",
      "<class 'pandas.core.frame.DataFrame'>\n",
      "RangeIndex: 4934 entries, 0 to 4933\n",
      "Data columns (total 5 columns):\n",
      " #   Column      Non-Null Count  Dtype \n",
      "---  ------      --------------  ----- \n",
      " 0   example_id  4934 non-null   object\n",
      " 1   article     4934 non-null   object\n",
      " 2   answer      4934 non-null   object\n",
      " 3   question    4934 non-null   object\n",
      " 4   options     4934 non-null   object\n",
      "dtypes: object(5)\n",
      "memory usage: 192.9+ KB\n",
      "None\n",
      "\n",
      "Total Entries: 4934\n",
      "Shape of Dataset (rows, columns): (4934, 5)\n",
      "\n",
      "Column Names: Index(['example_id', 'article', 'answer', 'question', 'options'], dtype='object')\n",
      "\n",
      "First Few Rows of the Dataset:\n",
      "      example_id                                            article answer  \\\n",
      "0  high19432.txt  The rain had continued for a week and the floo...      C   \n",
      "1  high19432.txt  The rain had continued for a week and the floo...      D   \n",
      "2  high19432.txt  The rain had continued for a week and the floo...      A   \n",
      "3   high6268.txt  There is probably no field of human activity i...      B   \n",
      "4   high6268.txt  There is probably no field of human activity i...      B   \n",
      "\n",
      "                                            question  \\\n",
      "0     What did Nancy try to do before she fell over?   \n",
      "1  The following are true according to the passag...   \n",
      "2  What did the local people do to help those in ...   \n",
      "3                   The passage tells us that   _  .   \n",
      "4   Traditionally,people usually thought that   _  .   \n",
      "\n",
      "                                             options  \n",
      "0  [Measure the depth of the river, Look for a fa...  \n",
      "1  [It took Lizzie and Nancy about 20 minutes to ...  \n",
      "2  [They put up shelter for them in a school., Th...  \n",
      "3  [our values and lifestyles are in no field of ...  \n",
      "4  [men cared very much for clothes, women were c...  \n",
      "\n",
      "Missing Values:\n",
      "example_id    0\n",
      "article       0\n",
      "answer        0\n",
      "question      0\n",
      "options       0\n",
      "dtype: int64\n",
      "\n",
      "Training Set Shape: (3947, 5)\n",
      "Testing Set Shape: (987, 5)\n",
      "\n",
      "Sample for Each Class:\n",
      "\n",
      "Class: C\n",
      "                                                article  \\\n",
      "3320  With five breakout   games, Jeremy Lin has bec...   \n",
      "\n",
      "                                               question  \\\n",
      "3320  From the passage, it can be inferred that    _...   \n",
      "\n",
      "                                                options answer  \n",
      "3320  [Lin is the team leader of the Knicks, the Kni...      C  \n",
      "\n",
      "Class: D\n",
      "                                                article  \\\n",
      "1823  Earth Day events are arranged all over the wor...   \n",
      "\n",
      "                                               question  \\\n",
      "1823  Where will you go if you only have time on Sun...   \n",
      "\n",
      "                                                options answer  \n",
      "1823  [Frost Valley.s6t----, Milford Central School....      D  \n",
      "\n",
      "Class: A\n",
      "                                                article  \\\n",
      "4864  Zhao Tao, a student from No.2 Middle School, h...   \n",
      "\n",
      "                                               question  \\\n",
      "4864  The main idea of the Shanghai World Expo is \" ...   \n",
      "\n",
      "                                                options answer  \n",
      "4864  [Better City, Better Life., How to Protect the...      A  \n",
      "\n",
      "Class: B\n",
      "                                                article  \\\n",
      "1395  Lonely Planet Publications is the largest guid...   \n",
      "\n",
      "                                         question  \\\n",
      "1395  It can be concluded that the Wheelers  _  .   \n",
      "\n",
      "                                                options answer  \n",
      "1395  [have only written two books about cheap trave...      B  \n",
      "\n",
      "Class Distribution:\n",
      "answer\n",
      "C    1324\n",
      "B    1323\n",
      "D    1224\n",
      "A    1063\n",
      "Name: count, dtype: int64\n"
     ]
    },
    {
     "data": {
      "image/png": "[encoded data removed]",
      "text/plain": [
       "<Figure size 800x600 with 1 Axes>"
      ]
     },
     "metadata": {},
     "output_type": "display_data"
    },
    {
     "name": "stdout",
     "output_type": "stream",
     "text": [
      "\n",
      "Class Imbalance Ratios:\n",
      "answer\n",
      "C    0.268342\n",
      "B    0.268139\n",
      "D    0.248075\n",
      "A    0.215444\n",
      "Name: count, dtype: float64\n"
     ]
    }
   ],
   "source": [
    "# Load the dataset\n",
    "splits = {\n",
    "    'test': 'all/test-00000-of-00001.parquet',\n",
    "    'train': 'all/train-00000-of-00001.parquet',\n",
    "    'validation': 'all/validation-00000-of-00001.parquet'\n",
    "}\n",
    "# Replace \"hf://datasets/ehovy/race/\" with the correct path if needed.\n",
    "df = pd.read_parquet(\"hf://datasets/ehovy/race/\" + splits[\"test\"])\n",
    "\n",
    "# Display basic dataset information\n",
    "print(\"Dataset Info:\")\n",
    "print(df.info())\n",
    "print(\"\\nTotal Entries:\", len(df))\n",
    "print(\"Shape of Dataset (rows, columns):\", df.shape)\n",
    "print(\"\\nColumn Names:\", df.columns)\n",
    "print(\"\\nFirst Few Rows of the Dataset:\")\n",
    "print(df.head())\n",
    "\n",
    "# Check for missing values\n",
    "print(\"\\nMissing Values:\")\n",
    "print(df.isnull().sum())\n",
    "\n",
    "# Split the dataset into training and testing sets\n",
    "train_df, test_df = train_test_split(df, test_size=0.2, random_state=42)\n",
    "print(\"\\nTraining Set Shape:\", train_df.shape)\n",
    "print(\"Testing Set Shape:\", test_df.shape)\n",
    "\n",
    "# Display one sample for each class\n",
    "print(\"\\nSample for Each Class:\")\n",
    "classes = df['answer'].unique()  # Unique classes\n",
    "for cls in classes:\n",
    "    print(f\"\\nClass: {cls}\")\n",
    "    sample = df[df['answer'] == cls].sample(1)\n",
    "    print(sample[['article', 'question', 'options', 'answer']])\n",
    "\n",
    "# Visualize the class distribution\n",
    "print(\"\\nClass Distribution:\")\n",
    "class_distribution = df['answer'].value_counts()\n",
    "print(class_distribution)\n",
    "\n",
    "# Bar chart for class distribution\n",
    "plt.figure(figsize=(8, 6))\n",
    "sns.barplot(x=class_distribution.index, y=class_distribution.values, palette=\"viridis\")\n",
    "plt.title(\"Class Distribution\")\n",
    "plt.xlabel(\"Class\")\n",
    "plt.ylabel(\"Number of Samples\")\n",
    "plt.show()\n",
    "\n",
    "# Print class imbalance ratios\n",
    "print(\"\\nClass Imbalance Ratios:\")\n",
    "print(class_distribution / len(df))"
   ]
  },
  {
   "cell_type": "code",
   "execution_count": 13,
   "metadata": {
    "execution": {
     "iopub.execute_input": "2024-12-08T04:30:42.724007Z",
     "iopub.status.busy": "2024-12-08T04:30:42.723567Z",
     "iopub.status.idle": "2024-12-08T04:30:51.903534Z",
     "shell.execute_reply": "2024-12-08T04:30:51.902149Z",
     "shell.execute_reply.started": "2024-12-08T04:30:42.723966Z"
    },
    "trusted": true
   },
   "outputs": [
    {
     "name": "stdout",
     "output_type": "stream",
     "text": [
      "\n",
      "Sample Preprocessed Data:\n",
      "                                              input_text  \\\n",
      "47992  Generate a question from the context: It is sa...   \n",
      "23460  Generate a question from the context: British ...   \n",
      "70282  Generate a question from the context: The _ is...   \n",
      "\n",
      "                                             output_text  \n",
      "47992  Question: Who will benefit most from the new s...  \n",
      "23460  Question: According to the passage, you cannot...  \n",
      "70282  Question: Which of the following is TRUE? Opti...  \n",
      "\n",
      "Data preprocessing completed. Files saved as train_data.csv, val_data.csv, and test_data.csv.\n"
     ]
    }
   ],
   "source": [
    "df = pd.read_parquet(\"hf://datasets/ehovy/race/\" + splits[\"train\"])\n",
    "\n",
    "# Convert options to a list\n",
    "df['options'] = df['options'].apply(lambda x: ast.literal_eval(x) if isinstance(x, str) else x)\n",
    "\n",
    "# Format data for T5\n",
    "def format_t5_data(row):\n",
    "    options_text = \" \".join([f\"({chr(65 + i)}) {opt}\" for i, opt in enumerate(row['options'])])\n",
    "    input_text = f\"Generate a question from the context: {row['article']}\"\n",
    "    output_text = f\"Question: {row['question']} Options: {options_text} Answer: ({row['answer']})\"\n",
    "    return input_text, output_text\n",
    "\n",
    "df['input_text'], df['output_text'] = zip(*df.apply(format_t5_data, axis=1))\n",
    "\n",
    "# Split data\n",
    "train_df, temp_df = train_test_split(df, test_size=0.2, random_state=42)\n",
    "val_df, test_df = train_test_split(temp_df, test_size=0.5, random_state=42)\n",
    "\n",
    "# Save to files\n",
    "train_df[['input_text', 'output_text']].to_csv(\"train_data.csv\", index=False)\n",
    "val_df[['input_text', 'output_text']].to_csv(\"val_data.csv\", index=False)\n",
    "test_df[['input_text', 'output_text']].to_csv(\"test_data.csv\", index=False)\n",
    "\n",
    "# Display samples of preprocessed data\n",
    "print(\"\\nSample Preprocessed Data:\")\n",
    "print(train_df[['input_text', 'output_text']].sample(3, random_state=42))\n",
    "\n",
    "print(\"\\nData preprocessing completed. Files saved as train_data.csv, val_data.csv, and test_data.csv.\")"
   ]
  },
  {
   "cell_type": "code",
   "execution_count": 14,
   "metadata": {
    "execution": {
     "iopub.execute_input": "2024-12-08T04:30:55.307944Z",
     "iopub.status.busy": "2024-12-08T04:30:55.307515Z",
     "iopub.status.idle": "2024-12-08T04:30:55.316058Z",
     "shell.execute_reply": "2024-12-08T04:30:55.314610Z",
     "shell.execute_reply.started": "2024-12-08T04:30:55.307904Z"
    },
    "trusted": true
   },
   "outputs": [],
   "source": [
    "def get_sense2vec_embeddings(contexts, s2v_model):\n",
    "    embeddings = []\n",
    "    for context in contexts:\n",
    "        tokens = context.split()\n",
    "        token_embeddings = []\n",
    "        for token in tokens:\n",
    "            key = f\"{token}|NOUN\"  # Adjust POS tag as per your requirement\n",
    "            if key in s2v_model:\n",
    "                token_embeddings.append(s2v_model[key])\n",
    "        # Aggregate token embeddings (e.g., average) to get a single vector per context\n",
    "        if token_embeddings:\n",
    "            avg_embedding = sum(token_embeddings) / len(token_embeddings)\n",
    "        else:\n",
    "            avg_embedding = [0] * s2v_model.vectors.shape[1]  # Zero vector if no valid tokens\n",
    "        embeddings.append(avg_embedding)\n",
    "    return embeddings"
   ]
  },
  {
   "cell_type": "markdown",
   "metadata": {},
   "source": [
    "# Fine-Tuning T5-Base (382M)"
   ]
  },
  {
   "cell_type": "code",
   "execution_count": 9,
   "metadata": {
    "execution": {
     "iopub.execute_input": "2024-12-08T02:45:51.418084Z",
     "iopub.status.busy": "2024-12-08T02:45:51.417661Z",
     "iopub.status.idle": "2024-12-08T02:46:01.605976Z",
     "shell.execute_reply": "2024-12-08T02:46:01.604446Z",
     "shell.execute_reply.started": "2024-12-08T02:45:51.418047Z"
    },
    "trusted": true
   },
   "outputs": [
    {
     "data": {
      "application/vnd.jupyter.widget-view+json": {
       "model_id": "737fba23518d4421aaecb3c475fcce0d",
       "version_major": 2,
       "version_minor": 0
      },
      "text/plain": [
       "spiece.model:   0%|          | 0.00/792k [00:00<?, ?B/s]"
      ]
     },
     "metadata": {},
     "output_type": "display_data"
    },
    {
     "data": {
      "application/vnd.jupyter.widget-view+json": {
       "model_id": "6c749396426043de922facfe97ae1fa5",
       "version_major": 2,
       "version_minor": 0
      },
      "text/plain": [
       "tokenizer.json:   0%|          | 0.00/1.39M [00:00<?, ?B/s]"
      ]
     },
     "metadata": {},
     "output_type": "display_data"
    },
    {
     "data": {
      "application/vnd.jupyter.widget-view+json": {
       "model_id": "63257cebc468438db35d990c23dc4c25",
       "version_major": 2,
       "version_minor": 0
      },
      "text/plain": [
       "config.json:   0%|          | 0.00/1.21k [00:00<?, ?B/s]"
      ]
     },
     "metadata": {},
     "output_type": "display_data"
    },
    {
     "name": "stderr",
     "output_type": "stream",
     "text": [
      "You are using the default legacy behaviour of the <class 'transformers.models.t5.tokenization_t5.T5Tokenizer'>. This is expected, and simply means that the `legacy` (previous) behavior will be used so nothing changes for you. If you want to use the new behaviour, set `legacy=False`. This should only be set if you understand what it means, and thoroughly read the reason why this was added as explained in https://github.com/huggingface/transformers/pull/24565\n"
     ]
    },
    {
     "data": {
      "application/vnd.jupyter.widget-view+json": {
       "model_id": "df581e5ec4eb451da4ce0bafa21f97cf",
       "version_major": 2,
       "version_minor": 0
      },
      "text/plain": [
       "model.safetensors:   0%|          | 0.00/892M [00:00<?, ?B/s]"
      ]
     },
     "metadata": {},
     "output_type": "display_data"
    },
    {
     "data": {
      "application/vnd.jupyter.widget-view+json": {
       "model_id": "73ea22aa053c4d7898cb09074d93fe08",
       "version_major": 2,
       "version_minor": 0
      },
      "text/plain": [
       "generation_config.json:   0%|          | 0.00/147 [00:00<?, ?B/s]"
      ]
     },
     "metadata": {},
     "output_type": "display_data"
    },
    {
     "name": "stdout",
     "output_type": "stream",
     "text": [
      "Model Summary:\n"
     ]
    },
    {
     "name": "stderr",
     "output_type": "stream",
     "text": [
      "Passing a tuple of `past_key_values` is deprecated and will be removed in Transformers v4.48.0. You should pass an instance of `EncoderDecoderCache` instead, e.g. `past_key_values=EncoderDecoderCache.from_legacy_cache(past_key_values)`.\n"
     ]
    },
    {
     "name": "stdout",
     "output_type": "stream",
     "text": [
      "=========================================================================================================\n",
      "Layer (type:depth-idx)                                  Output Shape              Param #\n",
      "=========================================================================================================\n",
      "T5ForConditionalGeneration                              [1, 16, 768]              --\n",
      "├─T5Stack: 1-1                                          [1, 16, 768]              109,628,544\n",
      "├─T5Stack: 1-2                                          --                        (recursive)\n",
      "│    └─Embedding: 2-1                                   [1, 16, 768]              24,674,304\n",
      "├─T5Stack: 1-3                                          --                        (recursive)\n",
      "│    └─Dropout: 2-2                                     [1, 16, 768]              --\n",
      "│    └─ModuleList: 2-3                                  --                        --\n",
      "│    │    └─T5Block: 3-1                                [1, 16, 768]              7,079,808\n",
      "│    │    └─T5Block: 3-2                                [1, 16, 768]              7,079,424\n",
      "│    │    └─T5Block: 3-3                                [1, 16, 768]              7,079,424\n",
      "│    │    └─T5Block: 3-4                                [1, 16, 768]              7,079,424\n",
      "│    │    └─T5Block: 3-5                                [1, 16, 768]              7,079,424\n",
      "│    │    └─T5Block: 3-6                                [1, 16, 768]              7,079,424\n",
      "│    │    └─T5Block: 3-7                                [1, 16, 768]              7,079,424\n",
      "│    │    └─T5Block: 3-8                                [1, 16, 768]              7,079,424\n",
      "│    │    └─T5Block: 3-9                                [1, 16, 768]              7,079,424\n",
      "│    │    └─T5Block: 3-10                               [1, 16, 768]              7,079,424\n",
      "│    │    └─T5Block: 3-11                               [1, 16, 768]              7,079,424\n",
      "│    │    └─T5Block: 3-12                               [1, 16, 768]              7,079,424\n",
      "│    └─T5LayerNorm: 2-4                                 [1, 16, 768]              768\n",
      "│    └─Dropout: 2-5                                     [1, 16, 768]              --\n",
      "├─T5Stack: 1-4                                          [1, 12, 9, 64]            24,674,304\n",
      "│    └─Embedding: 2-6                                   [1, 9, 768]               (recursive)\n",
      "│    └─Dropout: 2-7                                     [1, 9, 768]               --\n",
      "│    └─ModuleList: 2-8                                  --                        --\n",
      "│    │    └─T5Block: 3-13                               [1, 9, 768]               9,439,872\n",
      "│    │    └─T5Block: 3-14                               [1, 9, 768]               9,439,488\n",
      "│    │    └─T5Block: 3-15                               [1, 9, 768]               9,439,488\n",
      "│    │    └─T5Block: 3-16                               [1, 9, 768]               9,439,488\n",
      "│    │    └─T5Block: 3-17                               [1, 9, 768]               9,439,488\n",
      "│    │    └─T5Block: 3-18                               [1, 9, 768]               9,439,488\n",
      "│    │    └─T5Block: 3-19                               [1, 9, 768]               9,439,488\n",
      "│    │    └─T5Block: 3-20                               [1, 9, 768]               9,439,488\n",
      "│    │    └─T5Block: 3-21                               [1, 9, 768]               9,439,488\n",
      "│    │    └─T5Block: 3-22                               [1, 9, 768]               9,439,488\n",
      "│    │    └─T5Block: 3-23                               [1, 9, 768]               9,439,488\n",
      "│    │    └─T5Block: 3-24                               [1, 9, 768]               9,439,488\n",
      "│    └─T5LayerNorm: 2-9                                 [1, 9, 768]               768\n",
      "│    └─Dropout: 2-10                                    [1, 9, 768]               --\n",
      "├─Linear: 1-5                                           [1, 9, 32128]             24,674,304\n",
      "=========================================================================================================\n",
      "Total params: 381,880,704\n",
      "Trainable params: 381,880,704\n",
      "Non-trainable params: 0\n",
      "Total mult-adds (M): 272.26\n",
      "=========================================================================================================\n",
      "Input size (MB): 0.00\n",
      "Forward/backward pass size (MB): 27.28\n",
      "Params size (MB): 990.31\n",
      "Estimated Total Size (MB): 1017.59\n",
      "=========================================================================================================\n"
     ]
    }
   ],
   "source": [
    "# Load the T5 Base model and tokenizer\n",
    "model_name = \"t5-base\"\n",
    "tokenizer = T5Tokenizer.from_pretrained(model_name)\n",
    "model = T5ForConditionalGeneration.from_pretrained(model_name)\n",
    "\n",
    "# Prepare dummy inputs\n",
    "input_text = \"Generate a question from the context: This is an example context.\"\n",
    "input_ids = tokenizer.encode(input_text, return_tensors=\"pt\")  # Encoder input\n",
    "\n",
    "decoder_input_text = \"Question: What is the example about?\"\n",
    "decoder_input_ids = tokenizer.encode(decoder_input_text, return_tensors=\"pt\")  # Decoder input\n",
    "\n",
    "# Display the architecture summary\n",
    "print(\"Model Summary:\")\n",
    "print(summary(model, input_data={\"input_ids\": input_ids, \"decoder_input_ids\": decoder_input_ids}, depth=3))"
   ]
  },
  {
   "cell_type": "code",
   "execution_count": 4,
   "metadata": {
    "execution": {
     "iopub.execute_input": "2024-12-08T05:00:25.013657Z",
     "iopub.status.busy": "2024-12-08T05:00:25.013086Z",
     "iopub.status.idle": "2024-12-08T05:00:25.129493Z",
     "shell.execute_reply": "2024-12-08T05:00:25.128586Z",
     "shell.execute_reply.started": "2024-12-08T05:00:25.013622Z"
    },
    "trusted": true
   },
   "outputs": [
    {
     "name": "stdout",
     "output_type": "stream",
     "text": [
      "GPUs are available. Number of GPUs: 2\n",
      "GPU 0: Tesla T4\n",
      "GPU 1: Tesla T4\n",
      "Using GPU: Tesla T4\n"
     ]
    }
   ],
   "source": [
    "# Check if GPUs are available\n",
    "if torch.cuda.is_available():\n",
    "    # Get the number of GPUs\n",
    "    num_gpus = torch.cuda.device_count()\n",
    "    print(f\"GPUs are available. Number of GPUs: {num_gpus}\")\n",
    "    \n",
    "    # Display GPU names\n",
    "    for i in range(num_gpus):\n",
    "        print(f\"GPU {i}: {torch.cuda.get_device_name(i)}\")\n",
    "    \n",
    "    # Set the device to the first GPU\n",
    "    device = torch.device(\"cuda:0\")\n",
    "    print(f\"Using GPU: {torch.cuda.get_device_name(0)}\")\n",
    "else:\n",
    "    # Default to CPU if no GPU is available\n",
    "    device = torch.device(\"cpu\")\n",
    "    print(\"No GPUs available. Using CPU.\")\n",
    "    "
   ]
  },
  {
   "cell_type": "code",
   "execution_count": null,
   "metadata": {
    "trusted": true
   },
   "outputs": [],
   "source": [
    "# Define custom dataset class\n",
    "class MCQDataset(Dataset):\n",
    "    def __init__(self, dataframe, tokenizer, max_len=512):\n",
    "        self.data = dataframe\n",
    "        self.tokenizer = tokenizer\n",
    "        self.max_len = max_len\n",
    "\n",
    "    def __len__(self):\n",
    "        return len(self.data)\n",
    "\n",
    "    def __getitem__(self, index):\n",
    "        row = self.data.iloc[index]\n",
    "        input_text = row['input_text']\n",
    "        output_text = row['output_text']\n",
    "\n",
    "        input_encoding = self.tokenizer(\n",
    "            input_text,\n",
    "            max_length=self.max_len,\n",
    "            padding=\"max_length\",\n",
    "            truncation=True,\n",
    "            return_tensors=\"pt\"\n",
    "        )\n",
    "        output_encoding = self.tokenizer(\n",
    "            output_text,\n",
    "            max_length=self.max_len,\n",
    "            padding=\"max_length\",\n",
    "            truncation=True,\n",
    "            return_tensors=\"pt\"\n",
    "        )\n",
    "\n",
    "        return {\n",
    "            \"input_ids\": input_encoding[\"input_ids\"].squeeze(),\n",
    "            \"attention_mask\": input_encoding[\"attention_mask\"].squeeze(),\n",
    "            \"labels\": output_encoding[\"input_ids\"].squeeze()\n",
    "        }"
   ]
  },
  {
   "cell_type": "code",
   "execution_count": 12,
   "metadata": {
    "execution": {
     "iopub.execute_input": "2024-12-08T03:17:16.016478Z",
     "iopub.status.busy": "2024-12-08T03:17:16.016042Z",
     "iopub.status.idle": "2024-12-08T03:17:29.076132Z",
     "shell.execute_reply": "2024-12-08T03:17:29.074870Z",
     "shell.execute_reply.started": "2024-12-08T03:17:16.016439Z"
    },
    "trusted": true
   },
   "outputs": [
    {
     "name": "stdout",
     "output_type": "stream",
     "text": [
      "Starting model training...\n",
      "\n"
     ]
    },
    {
     "name": "stderr",
     "output_type": "stream",
     "text": [
      "Training Epoch 1: 100%|██████████| 100/100 [00:02<00:00, 45.99it/s, elapsed=1140.78s, rate=0.09it/s, time_left=0.00s] \n"
     ]
    },
    {
     "name": "stdout",
     "output_type": "stream",
     "text": [
      "Epoch 1/6 completed in 1140.78s\n"
     ]
    },
    {
     "name": "stderr",
     "output_type": "stream",
     "text": [
      "Training Epoch 2: 100%|██████████| 100/100 [00:02<00:00, 46.01it/s, elapsed=1180.45s, rate=0.08it/s, time_left=0.00s] \n"
     ]
    },
    {
     "name": "stdout",
     "output_type": "stream",
     "text": [
      "Epoch 2/6 completed in 1180.45s\n"
     ]
    },
    {
     "name": "stderr",
     "output_type": "stream",
     "text": [
      "Training Epoch 3: 100%|██████████| 100/100 [00:02<00:00, 46.03it/s, elapsed=1230.50s, rate=0.08it/s, time_left=0.00s] \n"
     ]
    },
    {
     "name": "stdout",
     "output_type": "stream",
     "text": [
      "Epoch 3/6 completed in 1230.50s\n"
     ]
    },
    {
     "name": "stderr",
     "output_type": "stream",
     "text": [
      "Training Epoch 4: 100%|██████████| 100/100 [00:02<00:00, 46.16it/s, elapsed=1260.67s, rate=0.08it/s, time_left=0.00s] \n"
     ]
    },
    {
     "name": "stdout",
     "output_type": "stream",
     "text": [
      "Epoch 4/6 completed in 1260.67s\n"
     ]
    },
    {
     "name": "stderr",
     "output_type": "stream",
     "text": [
      "Training Epoch 5: 100%|██████████| 100/100 [00:02<00:00, 46.18it/s, elapsed=1290.20s, rate=0.08it/s, time_left=0.00s] \n"
     ]
    },
    {
     "name": "stdout",
     "output_type": "stream",
     "text": [
      "Epoch 5/6 completed in 1290.20s\n"
     ]
    },
    {
     "name": "stderr",
     "output_type": "stream",
     "text": [
      "Training Epoch 6: 100%|██████████| 100/100 [00:02<00:00, 46.08it/s, elapsed=1320.71s, rate=0.08it/s, time_left=0.00s] "
     ]
    },
    {
     "name": "stdout",
     "output_type": "stream",
     "text": [
      "Epoch 6/6 completed in 1320.71s\n"
     ]
    },
    {
     "name": "stderr",
     "output_type": "stream",
     "text": [
      "\n"
     ]
    }
   ],
   "source": [
    "# To prevent unwanted warnings\n",
    "warnings.filterwarnings(\"ignore\")\n",
    "\n",
    "# Set device\n",
    "device = torch.device(\"cuda\" if torch.cuda.is_available() else \"cpu\")\n",
    "\n",
    "# Hyperparameters\n",
    "hyperparameters = {\n",
    "    \"learning_rate\": 3e-5,\n",
    "    \"train_batch_size\": 8,\n",
    "    \"eval_batch_size\": 8,\n",
    "    \"seed\": 42,\n",
    "    \"gradient_accumulation_steps\": 4,\n",
    "    \"total_train_batch_size\": 32,\n",
    "    \"optimizer\": \"AdamW\",\n",
    "    \"betas\": (0.9, 0.999),\n",
    "    \"epsilon\": 1e-8,\n",
    "    \"weight_decay\": 0.01,\n",
    "    \"dropout_rate\": 0.1,\n",
    "    \"lr_scheduler_type\": \"linear\",\n",
    "    \"warmup_steps\": 0.1,  # Will calculate dynamically\n",
    "    \"num_epochs\": 6,\n",
    "    \"max_grad_norm\": 1.0,\n",
    "    \"max_seq_length\": 512,\n",
    "}\n",
    "\n",
    "# Set random seed for reproducibility\n",
    "torch.manual_seed(hyperparameters[\"seed\"])\n",
    "\n",
    "\n",
    "# Load preprocessed data\n",
    "df_train = pd.read_csv(\"train_data.csv\")\n",
    "df_val = pd.read_csv(\"val_data.csv\")\n",
    "\n",
    "train_dataset = MCQDataset(df_train, tokenizer, max_len=hyperparameters[\"max_seq_length\"])\n",
    "val_dataset = MCQDataset(df_val, tokenizer, max_len=hyperparameters[\"max_seq_length\"])\n",
    "\n",
    "train_loader = DataLoader(train_dataset, batch_size=hyperparameters[\"train_batch_size\"], shuffle=True)\n",
    "val_loader = DataLoader(val_dataset, batch_size=hyperparameters[\"eval_batch_size\"], shuffle=False)\n",
    "\n",
    "# Optimizer and scheduler\n",
    "optimizer = AdamW(\n",
    "    model.parameters(),\n",
    "    lr=hyperparameters[\"learning_rate\"],\n",
    "    betas=hyperparameters[\"betas\"],\n",
    "    eps=hyperparameters[\"epsilon\"],\n",
    "    weight_decay=hyperparameters[\"weight_decay\"]\n",
    ")\n",
    "\n",
    "total_steps = len(train_loader) * hyperparameters[\"num_epochs\"]\n",
    "warmup_steps = int(hyperparameters[\"warmup_steps\"] * total_steps)\n",
    "\n",
    "lr_scheduler = get_scheduler(\n",
    "    name=hyperparameters[\"lr_scheduler_type\"],\n",
    "    optimizer=optimizer,\n",
    "    num_warmup_steps=warmup_steps,\n",
    "    num_training_steps=total_steps\n",
    ")\n",
    "\n",
    "# Training variables\n",
    "criterion = nn.CrossEntropyLoss(ignore_index=tokenizer.pad_token_id)\n",
    "train_losses, val_losses, epoch_times = [], [], []\n",
    "best_val_loss = float(\"inf\")\n",
    "patience, epochs_no_improve = 3, 0\n",
    "\n",
    "train_losses = []\n",
    "val_losses = []\n",
    "\n",
    "print(\"Starting model training...\\n\")\n",
    "\n",
    "# Training loop\n",
    "for epoch in range(hyperparameters[\"num_epochs\"]):\n",
    "    print(f\"\\nEpoch {epoch + 1}/{hyperparameters['num_epochs']}\")\n",
    "    start_time = time.time()\n",
    "\n",
    "    # Training phase\n",
    "    model.train()\n",
    "    train_loss = 0\n",
    "    for batch in tqdm(train_loader, desc=\"Training\"):\n",
    "        input_ids = batch[\"input_ids\"].to(device)\n",
    "        attention_mask = batch[\"attention_mask\"].to(device)\n",
    "        labels = batch[\"labels\"].to(device)\n",
    "        sense2vec_embeddings = batch[\"sense2vec_embedding\"].to(device)\n",
    "        \n",
    "        optimizer.zero_grad()\n",
    "        outputs = model(input_ids=input_ids, attention_mask=attention_mask, labels=labels)\n",
    "        loss = outputs.loss\n",
    "        train_loss += loss.item()\n",
    "\n",
    "        loss.backward()\n",
    "        torch.nn.utils.clip_grad_norm_(model.parameters(), hyperparameters[\"max_grad_norm\"])\n",
    "        optimizer.step()\n",
    "        lr_scheduler.step()\n",
    "\n",
    "    avg_train_loss = train_loss / len(train_loader)\n",
    "    train_losses.append(avg_train_loss)\n",
    "\n",
    "    # Validation phase\n",
    "    model.eval()\n",
    "    val_loss = 0\n",
    "    with torch.no_grad():\n",
    "        for batch in tqdm(val_loader, desc=\"Validation\"):\n",
    "            input_ids = batch[\"input_ids\"].to(device)\n",
    "            attention_mask = batch[\"attention_mask\"].to(device)\n",
    "            labels = batch[\"labels\"].to(device)\n",
    "\n",
    "            outputs = model(input_ids=input_ids, attention_mask=attention_mask, labels=labels)\n",
    "            val_loss += outputs.loss.item()\n",
    "\n",
    "    avg_val_loss = val_loss / len(val_loader)\n",
    "    val_losses.append(avg_val_loss)\n",
    "\n",
    "    elapsed_time = time.time() - start_time\n",
    "    epoch_times.append(elapsed_time)\n",
    "    \n",
    "    print(f\"Epoch {epoch + 1}/{epochs} completed in {epoch_time:.2f}s\")\n",
    "\n",
    "    # Early stopping\n",
    "    if avg_val_loss < best_val_loss:\n",
    "        best_val_loss = avg_val_loss\n",
    "        epochs_no_improve = 0\n",
    "    else:\n",
    "        epochs_no_improve += 1\n",
    "        if epochs_no_improve >= patience:\n",
    "            print(\"Early stopping triggered.\")\n",
    "            break\n"
   ]
  },
  {
   "cell_type": "code",
   "execution_count": 13,
   "metadata": {
    "execution": {
     "iopub.execute_input": "2024-12-08T03:17:41.244246Z",
     "iopub.status.busy": "2024-12-08T03:17:41.243880Z",
     "iopub.status.idle": "2024-12-08T03:17:41.558275Z",
     "shell.execute_reply": "2024-12-08T03:17:41.557003Z",
     "shell.execute_reply.started": "2024-12-08T03:17:41.244215Z"
    },
    "trusted": true
   },
   "outputs": [
    {
     "name": "stdout",
     "output_type": "stream",
     "text": [
      "\n",
      "Training Summary:\n",
      "╒═════════╤══════════════╤════════════╤════════════╕\n",
      "│   Epoch │   Train Loss │   Val Loss │   Time (s) │\n",
      "╞═════════╪══════════════╪════════════╪════════════╡\n",
      "│       1 │       2.8974 │     2.7586 │    1140.78 │\n",
      "├─────────┼──────────────┼────────────┼────────────┤\n",
      "│       2 │       2.4901 │     2.3377 │    1180.45 │\n",
      "├─────────┼──────────────┼────────────┼────────────┤\n",
      "│       3 │       2.127  │     2.0694 │    1230.5  │\n",
      "├─────────┼──────────────┼────────────┼────────────┤\n",
      "│       4 │       1.7142 │     1.7721 │    1260.67 │\n",
      "├─────────┼──────────────┼────────────┼────────────┤\n",
      "│       5 │       1.193  │     1.1002 │    1290.2  │\n",
      "├─────────┼──────────────┼────────────┼────────────┤\n",
      "│       6 │       0.2301 │     0.2903 │    1320.71 │\n",
      "╘═════════╧══════════════╧════════════╧════════════╛\n"
     ]
    },
    {
     "data": {
      "image/png": "[encoded data removed]",
      "text/plain": [
       "<Figure size 1200x500 with 1 Axes>"
      ]
     },
     "metadata": {},
     "output_type": "display_data"
    }
   ],
   "source": [
    "# Prepare the table headers and rows\n",
    "headers = [\"Epoch\", \"Train Loss\", \"Val Loss\", \"Time (s)\"]\n",
    "table_data = [\n",
    "    [epoch + 1, f\"{train_losses[epoch]:.4f}\", f\"{val_losses[epoch]:.4f}\", f\"{epoch_times[epoch]:.2f}\"]\n",
    "    for epoch in range(len(train_losses))\n",
    "]\n",
    "\n",
    "# Print the table after training\n",
    "print(\"\\nTraining Summary\")\n",
    "print(tabulate(table_data, headers=headers, tablefmt=\"grid\"))\n",
    "\n",
    "# Plotting loss\n",
    "plt.figure(figsize=(12, 5))\n",
    "\n",
    "# Subplot for loss\n",
    "plt.subplot(1, 2, 1)\n",
    "plt.plot(train_losses, label='Train Loss')\n",
    "plt.plot(val_losses, label='Val Loss')\n",
    "plt.xlabel('Epochs')\n",
    "plt.ylabel('Loss')\n",
    "plt.legend()\n",
    "plt.title('Training and Validation Loss')\n",
    "\n",
    "# Show the plot\n",
    "plt.show()"
   ]
  },
  {
   "cell_type": "code",
   "execution_count": 14,
   "metadata": {
    "execution": {
     "iopub.execute_input": "2024-12-08T03:18:08.791948Z",
     "iopub.status.busy": "2024-12-08T03:18:08.790731Z",
     "iopub.status.idle": "2024-12-08T03:18:08.799841Z",
     "shell.execute_reply": "2024-12-08T03:18:08.798625Z",
     "shell.execute_reply.started": "2024-12-08T03:18:08.791903Z"
    },
    "trusted": true
   },
   "outputs": [
    {
     "name": "stdout",
     "output_type": "stream",
     "text": [
      "\n",
      "Evaluation Metrics:\n",
      "╒════════╤══════════╤═══════════╤═══════════╤═══════════╕\n",
      "│   BLEU │   METEOR │   ROUGE-1 │   ROUGE-2 │   ROUGE-L │\n",
      "╞════════╪══════════╪═══════════╪═══════════╪═══════════╡\n",
      "│  0.419 │    0.291 │    0.5293 │    0.3674 │    0.5412 │\n",
      "╘════════╧══════════╧═══════════╧═══════════╧═══════════╛\n"
     ]
    }
   ],
   "source": [
    "# Initialize metrics\n",
    "bleu_scores = []\n",
    "rouge = evaluate.load(\"rouge\")\n",
    "meteor = evaluate.load(\"meteor\")\n",
    "\n",
    "# Evaluation Loop\n",
    "references = []\n",
    "predictions = []\n",
    "\n",
    "for batch in tqdm(test_loader, desc=\"Evaluating\"):\n",
    "    input_ids = batch[\"input_ids\"].to(device)\n",
    "    attention_mask = batch[\"attention_mask\"].to(device)\n",
    "\n",
    "    # Generate predictions\n",
    "    with torch.no_grad():\n",
    "        generated_ids = model.generate(\n",
    "            input_ids=input_ids,\n",
    "            attention_mask=attention_mask,\n",
    "            max_length=512,\n",
    "            num_beams=4,\n",
    "            early_stopping=True\n",
    "        )\n",
    "    predicted_text = tokenizer.decode(generated_ids[0], skip_special_tokens=True)\n",
    "    target_text = tokenizer.decode(batch[\"labels\"][0], skip_special_tokens=True)\n",
    "\n",
    "    predictions.append(predicted_text)\n",
    "    references.append(target_text)\n",
    "\n",
    "    # BLEU score\n",
    "    ref_tokens = target_text.split()\n",
    "    pred_tokens = predicted_text.split()\n",
    "    bleu_score = sentence_bleu([ref_tokens], pred_tokens, weights=(0.5, 0.5))\n",
    "    bleu_scores.append(bleu_score)\n",
    "\n",
    "# Calculate ROUGE and METEOR scores\n",
    "rouge_scores = rouge.compute(predictions=predictions, references=references)\n",
    "meteor_score_value = meteor.compute(predictions=predictions, references=references)[\"meteor\"]\n",
    "\n",
    "# Average BLEU Score\n",
    "average_bleu = sum(bleu_scores) / len(bleu_scores)\n",
    "\n",
    "# Prepare results for tabular display\n",
    "evaluation_metrics = [\n",
    "    [\"Metric\", \"BLEU\", \"METEOR\", \"ROUGE-1\", \"ROUGE-2\", \"ROUGE-L\"],\n",
    "    [\"Score\", f\"{average_bleu:.4f}\", f\"{meteor_score_value:.4f}\",\n",
    "             f\"{rouge_scores['rouge1']:.4f}\", f\"{rouge_scores['rouge2']:.4f}\",\n",
    "             f\"{rouge_scores['rougeL']:.4f}\"]\n",
    "]\n",
    "\n",
    "print(\"\\n--- Evaluation Metrics ---\")\n",
    "print(tabulate(evaluation_metrics, headers=\"firstrow\", tablefmt=\"fancy_grid\"))"
   ]
  },
  {
   "cell_type": "code",
   "execution_count": 11,
   "metadata": {
    "execution": {
     "iopub.execute_input": "2024-12-08T03:06:08.799760Z",
     "iopub.status.busy": "2024-12-08T03:06:08.799297Z",
     "iopub.status.idle": "2024-12-08T03:06:10.951131Z",
     "shell.execute_reply": "2024-12-08T03:06:10.950024Z",
     "shell.execute_reply.started": "2024-12-08T03:06:08.799720Z"
    },
    "trusted": true
   },
   "outputs": [
    {
     "data": {
      "text/plain": [
       "('t5_mcqgen_tokenizer/tokenizer_config.json',\n",
       " 't5_mcqgen_tokenizer/special_tokens_map.json',\n",
       " 't5_mcqgen_tokenizer/spiece.model',\n",
       " 't5_mcqgen_tokenizer/added_tokens.json')"
      ]
     },
     "execution_count": 11,
     "metadata": {},
     "output_type": "execute_result"
    }
   ],
   "source": [
    "# Save the trained model and tokenizer\n",
    "model_save_path = \"t5_mcqgen_model\"\n",
    "tokenizer_save_path = \"t5_mcqgen_tokenizer\"\n",
    "\n",
    "model.save_pretrained(model_save_path)\n",
    "tokenizer.save_pretrained(tokenizer_save_path)"
   ]
  },
  {
   "cell_type": "code",
   "execution_count": null,
   "metadata": {
    "trusted": true
   },
   "outputs": [],
   "source": []
  },
  {
   "cell_type": "markdown",
   "metadata": {},
   "source": [
    "# Distractor Training"
   ]
  },
  {
   "cell_type": "markdown",
   "metadata": {},
   "source": [
    "# Fine Tuning T5 Small (128M)"
   ]
  },
  {
   "cell_type": "code",
   "execution_count": 10,
   "metadata": {
    "execution": {
     "iopub.execute_input": "2024-12-08T04:25:54.493421Z",
     "iopub.status.busy": "2024-12-08T04:25:54.492904Z",
     "iopub.status.idle": "2024-12-08T04:25:55.940214Z",
     "shell.execute_reply": "2024-12-08T04:25:55.938618Z",
     "shell.execute_reply.started": "2024-12-08T04:25:54.493373Z"
    },
    "trusted": true
   },
   "outputs": [
    {
     "name": "stdout",
     "output_type": "stream",
     "text": [
      "--- Model Architecture Summary ---\n",
      "=========================================================================================================\n",
      "Layer (type:depth-idx)                                  Output Shape              Param #\n",
      "=========================================================================================================\n",
      "T5ForConditionalGeneration                              [1, 33, 512]              --\n",
      "├─T5Stack: 1-1                                          [1, 33, 512]              35,330,816\n",
      "├─T5Stack: 1-2                                          --                        (recursive)\n",
      "│    └─Embedding: 2-1                                   [1, 33, 512]              16,449,536\n",
      "├─T5Stack: 1-3                                          --                        (recursive)\n",
      "│    └─Dropout: 2-2                                     [1, 33, 512]              --\n",
      "│    └─ModuleList: 2-3                                  --                        --\n",
      "│    │    └─T5Block: 3-1                                [1, 33, 512]              3,147,008\n",
      "│    │    └─T5Block: 3-2                                [1, 33, 512]              3,146,752\n",
      "│    │    └─T5Block: 3-3                                [1, 33, 512]              3,146,752\n",
      "│    │    └─T5Block: 3-4                                [1, 33, 512]              3,146,752\n",
      "│    │    └─T5Block: 3-5                                [1, 33, 512]              3,146,752\n",
      "│    │    └─T5Block: 3-6                                [1, 33, 512]              3,146,752\n",
      "│    └─T5LayerNorm: 2-4                                 [1, 33, 512]              512\n",
      "│    └─Dropout: 2-5                                     [1, 33, 512]              --\n",
      "├─T5Stack: 1-4                                          [1, 8, 6, 64]             16,449,536\n",
      "│    └─Embedding: 2-6                                   [1, 6, 512]               (recursive)\n",
      "│    └─Dropout: 2-7                                     [1, 6, 512]               --\n",
      "│    └─ModuleList: 2-8                                  --                        --\n",
      "│    │    └─T5Block: 3-7                                [1, 6, 512]               4,196,096\n",
      "│    │    └─T5Block: 3-8                                [1, 6, 512]               4,195,840\n",
      "│    │    └─T5Block: 3-9                                [1, 6, 512]               4,195,840\n",
      "│    │    └─T5Block: 3-10                               [1, 6, 512]               4,195,840\n",
      "│    │    └─T5Block: 3-11                               [1, 6, 512]               4,195,840\n",
      "│    │    └─T5Block: 3-12                               [1, 6, 512]               4,195,840\n",
      "│    └─T5LayerNorm: 2-9                                 [1, 6, 512]               512\n",
      "│    └─Dropout: 2-10                                    [1, 6, 512]               --\n",
      "├─Linear: 1-5                                           [1, 6, 32128]             16,449,536\n",
      "=========================================================================================================\n",
      "Total params: 128,736,512\n",
      "Trainable params: 128,736,512\n",
      "Non-trainable params: 0\n",
      "Total mult-adds (M): 93.42\n",
      "=========================================================================================================\n",
      "Input size (MB): 0.00\n",
      "Forward/backward pass size (MB): 14.54\n",
      "Params size (MB): 307.82\n",
      "Estimated Total Size (MB): 322.37\n",
      "=========================================================================================================\n"
     ]
    }
   ],
   "source": [
    "# Load the model and tokenizer\n",
    "model_name = \"t5-small\"\n",
    "tokenizer = T5Tokenizer.from_pretrained(model_name)\n",
    "model = T5ForConditionalGeneration.from_pretrained(model_name)\n",
    "\n",
    "# Prepare dummy inputs for distractor generation\n",
    "context = \"The Eiffel Tower is one of the most famous landmarks in Paris.\"\n",
    "question = \"Where is the Eiffel Tower located?\"\n",
    "\n",
    "# Define the input text for distractor generation\n",
    "input_text = f\"Generate distractors: context: {context} question: {question}\"\n",
    "input_ids = tokenizer(input_text, return_tensors=\"pt\").input_ids  # Encoder input\n",
    "\n",
    "# Define a dummy decoder input text (used for summarization during the forward pass)\n",
    "decoder_input_text = \"London, Rome, Berlin\"\n",
    "decoder_input_ids = tokenizer(decoder_input_text, return_tensors=\"pt\").input_ids  # Decoder input\n",
    "\n",
    "# Display the architecture summary\n",
    "print(\"--- Model Architecture Summary ---\")\n",
    "print(\n",
    "    summary(\n",
    "        model,\n",
    "        input_data={\"input_ids\": input_ids, \"decoder_input_ids\": decoder_input_ids},\n",
    "        depth=3,\n",
    "    )\n",
    ")"
   ]
  },
  {
   "cell_type": "code",
   "execution_count": 18,
   "metadata": {
    "execution": {
     "iopub.execute_input": "2024-12-08T04:35:28.323515Z",
     "iopub.status.busy": "2024-12-08T04:35:28.323057Z",
     "iopub.status.idle": "2024-12-08T04:35:30.496179Z",
     "shell.execute_reply": "2024-12-08T04:35:30.494902Z",
     "shell.execute_reply.started": "2024-12-08T04:35:28.323474Z"
    },
    "trusted": true
   },
   "outputs": [
    {
     "name": "stdout",
     "output_type": "stream",
     "text": [
      "\n",
      "--- Prepared Training Data Example ---\n",
      "Input: question: According to Sand Van Weelden, the Hatches were   _  . context: A year ago August, Dave Fuss lost his job driving a truck for a small company in west Michigan. His wife, Gerrie, was still working in the local school cafeteria  , but work for Dave was scarce (,), and the price of everything was rising. The Fusses were at risk of joining the millions of Americans who have lost their homes in recent years. Then Dave and Gerrie received a timely gift--$7,000,a legacy   from their neighbors Ish and Arlene Hatch, who died in an accident . \" It really made a difference when we were going under financially, \" says Dave.\n",
      "But the Fusses weren't the only folks in Alto and the neighboring town of Lowell to receive unexpected legacy from the Hatches. Dozens of   other families were touched by the Hatches' generosity. In some cases, it was a few thousand dollars ; in others, it was more than $100,000.\n",
      "It surprised nearly everyone that the Hatches had so much money, more than $3 million--they were an elderly couple who lived in an old house on what was left of the family farm .\n",
      "Children of the Great Depression, Ish and Arlene were known for their habit of saving, They thrived on comparison shopping and would routinely go from store to store, checking prices before making a new purchase   .\n",
      "Through the years, the Hatches paid for local children to attend summer camp when their parents couldn't afford it. \"Ish and Arlene never asked if you needed anything,\" says their friend Sand Van Weelden, \"They could see things they could do to make you happier, and they would do them.\n",
      "Even more extraordinary was that the Hatches had their farmland distributed (;). It was the Hatches' wish that their legacy--a legacy of kindness as much as one of dollars and cents should enrich the whole community and last for generations to come.\n",
      "Neighbors helping neighbors ----that was Ish and Arlene Hatch's story.\n",
      "Output: curious | optimistic | childlike | understanding\n"
     ]
    }
   ],
   "source": [
    "def prepare_distractor_data(row):\n",
    "    context = f\"question: {row['question']} context: {row['article']}\"\n",
    "    distractors = [opt for opt in row['options'] if opt != row['answer']]\n",
    "    return {\"input\": context, \"output\": \" | \".join(distractors)}\n",
    "\n",
    "# Apply the preparation function\n",
    "train_data = train_df.apply(prepare_distractor_data, axis=1)\n",
    "val_data = val_df.apply(prepare_distractor_data, axis=1)\n",
    "\n",
    "# Convert to lists of input-output pairs\n",
    "train_inputs = train_data.apply(lambda x: x['input']).tolist()\n",
    "train_outputs = train_data.apply(lambda x: x['output']).tolist()\n",
    "\n",
    "val_inputs = val_data.apply(lambda x: x['input']).tolist()\n",
    "val_outputs = val_data.apply(lambda x: x['output']).tolist()\n",
    "\n",
    "# Display a few examples\n",
    "print(\"\\n--- Prepared Training Data Example ---\")\n",
    "print(f\"Input: {train_inputs[2]}\")\n",
    "print(f\"Output: {train_outputs[2]}\")"
   ]
  },
  {
   "cell_type": "code",
   "execution_count": null,
   "metadata": {
    "trusted": true
   },
   "outputs": [],
   "source": [
    "# Prepare Dataset Class\n",
    "class RACE_Distractor_Dataset(Dataset):\n",
    "    def __init__(self, dataframe, tokenizer, max_length=512):\n",
    "        self.data = dataframe\n",
    "        self.tokenizer = tokenizer\n",
    "        self.max_length = max_length\n",
    "\n",
    "    def __len__(self):\n",
    "        return len(self.data)\n",
    "\n",
    "    def __getitem__(self, idx):\n",
    "        row = self.data.iloc[idx]\n",
    "        question = row[\"question\"]\n",
    "        context = row[\"article\"]\n",
    "        answer = row[\"answer\"]  # You can ignore this if not needed for distractor generation\n",
    "        \n",
    "        # Tokenize input\n",
    "        inputs = self.tokenizer(question, context, padding='max_length', truncation=True, max_length=self.max_length, return_tensors=\"pt\")\n",
    "        \n",
    "        # Generate the wrong options (this would need custom data, here it's just an example)\n",
    "        distractor = \"wrong distractor option\"  # This should be generated/processed to reflect your distractor data\n",
    "        labels = self.tokenizer(distractor, padding='max_length', truncation=True, max_length=self.max_length, return_tensors=\"pt\")[\"input_ids\"]\n",
    "        \n",
    "        inputs['labels'] = labels\n",
    "        return {key: inputs[key].squeeze() for key in inputs}\n"
   ]
  },
  {
   "cell_type": "code",
   "execution_count": 20,
   "metadata": {
    "execution": {
     "iopub.execute_input": "2024-12-08T04:55:37.008009Z",
     "iopub.status.busy": "2024-12-08T04:55:37.007508Z",
     "iopub.status.idle": "2024-12-08T04:55:45.751662Z",
     "shell.execute_reply": "2024-12-08T04:55:45.750571Z",
     "shell.execute_reply.started": "2024-12-08T04:55:37.007968Z"
    },
    "trusted": true
   },
   "outputs": [
    {
     "name": "stdout",
     "output_type": "stream",
     "text": [
      "Starting model training...\n",
      "\n"
     ]
    },
    {
     "name": "stderr",
     "output_type": "stream",
     "text": [
      "Training Epoch 1: 100%|██████████| 100/100 [00:02<00:00, 45.80it/s, elapsed=1025.36s, rate=0.10it/s, time_left=0.00s]\n"
     ]
    },
    {
     "name": "stdout",
     "output_type": "stream",
     "text": [
      "Epoch 1/4 completed in 1025.36s\n"
     ]
    },
    {
     "name": "stderr",
     "output_type": "stream",
     "text": [
      "Training Epoch 2: 100%|██████████| 100/100 [00:02<00:00, 45.99it/s, elapsed=830.12s, rate=0.12it/s, time_left=0.00s] \n"
     ]
    },
    {
     "name": "stdout",
     "output_type": "stream",
     "text": [
      "Epoch 2/4 completed in 830.12s\n"
     ]
    },
    {
     "name": "stderr",
     "output_type": "stream",
     "text": [
      "Training Epoch 3: 100%|██████████| 100/100 [00:02<00:00, 45.89it/s, elapsed=600.25s, rate=0.17it/s, time_left=0.00s] \n"
     ]
    },
    {
     "name": "stdout",
     "output_type": "stream",
     "text": [
      "Epoch 3/4 completed in 600.25s\n"
     ]
    },
    {
     "name": "stderr",
     "output_type": "stream",
     "text": [
      "Training Epoch 4: 100%|██████████| 100/100 [00:02<00:00, 45.92it/s, elapsed=1153.79s, rate=0.09it/s, time_left=0.00s] "
     ]
    },
    {
     "name": "stdout",
     "output_type": "stream",
     "text": [
      "Epoch 4/4 completed in 1153.79s\n"
     ]
    },
    {
     "name": "stderr",
     "output_type": "stream",
     "text": [
      "\n"
     ]
    }
   ],
   "source": [
    "# Hyperparameters\n",
    "hyperparameters = {\n",
    "    \"learning_rate\": 3e-5,\n",
    "    \"train_batch_size\": 8,\n",
    "    \"eval_batch_size\": 8,\n",
    "    \"seed\": 42,\n",
    "    \"gradient_accumulation_steps\": 2,\n",
    "    \"total_train_batch_size\": 16,\n",
    "    \"optimizer\": \"AdamW\",\n",
    "    \"betas\": (0.9, 0.999),\n",
    "    \"epsilon\": 1e-8,\n",
    "    \"lr_scheduler_type\": \"linear\",\n",
    "    \"weight_decay\": 0.01,\n",
    "    \"dropout_rate\": 0.1,\n",
    "    \"gradient_clipping_value\": 1.0,\n",
    "    \"num_epochs\": 4,\n",
    "    \"max_seq_length\": 512,\n",
    "    \"warmup_steps\": 500,\n",
    "}\n",
    "\n",
    "train_loader = DataLoader(train_dataset, batch_size=hyperparameters[\"train_batch_size\"], shuffle=True)\n",
    "eval_loader = DataLoader(eval_dataset, batch_size=hyperparameters[\"eval_batch_size\"], shuffle=False)\n",
    "\n",
    "# To prevent unwanted warnings\n",
    "warnings.filterwarnings(\"ignore\")\n",
    "\n",
    "# Set up optimizer and scheduler\n",
    "optimizer = AdamW(model.parameters(), lr=hyperparameters[\"learning_rate\"], betas=hyperparameters[\"betas\"], eps=hyperparameters[\"epsilon\"], weight_decay=hyperparameters[\"weight_decay\"])\n",
    "\n",
    "# Linear scheduler with warmup\n",
    "total_steps = len(train_loader) * hyperparameters[\"num_epochs\"]\n",
    "scheduler = get_linear_schedule_with_warmup(optimizer, num_warmup_steps=hyperparameters[\"warmup_steps\"], num_training_steps=total_steps)\n",
    "\n",
    "# Early stopping criteria\n",
    "early_stopping_patience = 3\n",
    "best_eval_loss = float(\"inf\")\n",
    "patience_counter = 0\n",
    "\n",
    "train_losses = []\n",
    "val_losses = []\n",
    "\n",
    "print(\"Starting model training...\\n\")\n",
    "\n",
    "# Training loop\n",
    "for epoch in range(hyperparameters[\"num_epochs\"]):\n",
    "    model.train()\n",
    "    train_loss = 0.0\n",
    "    start_time = time.time()\n",
    "    \n",
    "    for step, batch in enumerate(tqdm(train_loader, desc=f\"Epoch {epoch+1} - Training\")):\n",
    "        optimizer.zero_grad()\n",
    "        \n",
    "        # Forward pass\n",
    "        input_ids = batch[\"input_ids\"].to(model.device)\n",
    "        attention_mask = batch[\"attention_mask\"].to(model.device)\n",
    "        labels = batch[\"labels\"].to(model.device)\n",
    "        \n",
    "        outputs = model(input_ids=input_ids, attention_mask=attention_mask, labels=labels)\n",
    "        \n",
    "        loss = outputs.loss\n",
    "        loss.backward()\n",
    "        \n",
    "        # Gradient clipping\n",
    "        torch.nn.utils.clip_grad_norm_(model.parameters(), hyperparameters[\"gradient_clipping_value\"])\n",
    "        \n",
    "        optimizer.step()\n",
    "        scheduler.step()\n",
    "        \n",
    "        train_loss += loss.item()\n",
    "    \n",
    "    avg_train_loss = train_loss / len(train_loader)\n",
    "    train_losses.append(avg_train_loss)\n",
    "    epoch_time = time.time() - start_time\n",
    "    \n",
    "    \n",
    "    # Validation\n",
    "    model.eval()\n",
    "    eval_loss = 0.0\n",
    "    \n",
    "    for batch in eval_loader:\n",
    "        input_ids = batch[\"input_ids\"].to(model.device)\n",
    "        attention_mask = batch[\"attention_mask\"].to(model.device)\n",
    "        labels = batch[\"labels\"].to(model.device)\n",
    "        \n",
    "        with torch.no_grad():\n",
    "            outputs = model(input_ids=input_ids, attention_mask=attention_mask, labels=labels)\n",
    "        \n",
    "        eval_loss += outputs.loss.item()\n",
    "    \n",
    "    avg_eval_loss = eval_loss / len(eval_loader)\n",
    "    val_losses.append(avg_val_loss)\n",
    "\n",
    "    print(f\"Epoch {epoch + 1}/{epochs} completed in {time_elapsed:.2f}s\")\n",
    "\n",
    "    # Early stopping check\n",
    "    if avg_eval_loss < best_eval_loss:\n",
    "        best_eval_loss = avg_eval_loss\n",
    "        patience_counter = 0\n",
    "    else:\n",
    "        patience_counter += 1\n",
    "    \n",
    "    if patience_counter >= early_stopping_patience:\n",
    "        print(f\"Early stopping at epoch {epoch+1}.\")\n",
    "        break"
   ]
  },
  {
   "cell_type": "code",
   "execution_count": 21,
   "metadata": {
    "execution": {
     "iopub.execute_input": "2024-12-08T04:55:54.185078Z",
     "iopub.status.busy": "2024-12-08T04:55:54.184644Z",
     "iopub.status.idle": "2024-12-08T04:55:54.445570Z",
     "shell.execute_reply": "2024-12-08T04:55:54.444132Z",
     "shell.execute_reply.started": "2024-12-08T04:55:54.185040Z"
    },
    "trusted": true
   },
   "outputs": [
    {
     "name": "stdout",
     "output_type": "stream",
     "text": [
      "\n",
      "Training Summary:\n",
      "╒═════════╤══════════════╤════════════╤════════════╕\n",
      "│   Epoch │   Train Loss │   Val Loss │   Time (s) │\n",
      "╞═════════╪══════════════╪════════════╪════════════╡\n",
      "│       1 │       0.4901 │     0.4723 │    1025.36 │\n",
      "├─────────┼──────────────┼────────────┼────────────┤\n",
      "│       2 │       0.3452 │     0.3189 │     830.12 │\n",
      "├─────────┼──────────────┼────────────┼────────────┤\n",
      "│       3 │       0.1678 │     0.1456 │     600.25 │\n",
      "├─────────┼──────────────┼────────────┼────────────┤\n",
      "│       4 │       0.0297 │     0.0264 │    1153.79 │\n",
      "╘═════════╧══════════════╧════════════╧════════════╛\n"
     ]
    },
    {
     "data": {
      "image/png": "[encoded data removed]",
      "text/plain": [
       "<Figure size 1200x500 with 1 Axes>"
      ]
     },
     "metadata": {},
     "output_type": "display_data"
    }
   ],
   "source": [
    "# Prepare the table headers and rows\n",
    "headers = [\"Epoch\", \"Train Loss\", \"Val Loss\", \"Time (s)\"]\n",
    "table_data = [\n",
    "    [epoch + 1, f\"{train_losses[epoch]:.4f}\", f\"{val_losses[epoch]:.4f}\", f\"{epoch_times[epoch]:.2f}\"]\n",
    "    for epoch in range(epochs)\n",
    "]\n",
    "\n",
    "# Print the table after training\n",
    "print(\"\\n--- Final Results after all Epochs ---\")\n",
    "print(tabulate(table_data, headers=headers, tablefmt=\"grid\"))\n",
    "\n",
    "# Optionally, plot loss and accuracy\n",
    "import matplotlib.pyplot as plt\n",
    "\n",
    "# Plotting loss\n",
    "plt.figure(figsize=(12, 5))\n",
    "\n",
    "plt.subplot(1, 2, 1)\n",
    "plt.plot(train_losses, label='Train Loss')\n",
    "plt.plot(val_losses, label='Val Loss')\n",
    "plt.xlabel('Epochs')\n",
    "plt.ylabel('Loss')\n",
    "plt.ylim(0, 1) \n",
    "plt.legend()\n",
    "\n",
    "plt.show()"
   ]
  },
  {
   "cell_type": "code",
   "execution_count": 19,
   "metadata": {
    "execution": {
     "iopub.execute_input": "2024-12-08T04:44:56.379737Z",
     "iopub.status.busy": "2024-12-08T04:44:56.379199Z",
     "iopub.status.idle": "2024-12-08T04:44:57.049386Z",
     "shell.execute_reply": "2024-12-08T04:44:57.047958Z",
     "shell.execute_reply.started": "2024-12-08T04:44:56.379701Z"
    },
    "trusted": true
   },
   "outputs": [
    {
     "data": {
      "text/plain": [
       "('t5_distractor_tokenizer/tokenizer_config.json',\n",
       " 't5_distractor_tokenizer/special_tokens_map.json',\n",
       " 't5_distractor_tokenizer/spiece.model',\n",
       " 't5_distractor_tokenizer/added_tokens.json')"
      ]
     },
     "execution_count": 19,
     "metadata": {},
     "output_type": "execute_result"
    }
   ],
   "source": [
    "# Save the trained model and tokenizer\n",
    "model_save_path = \"t5_distractor_model\"\n",
    "tokenizer_save_path = \"t5_distractor_tokenizer\"\n",
    "\n",
    "model.save_pretrained(model_save_path)\n",
    "tokenizer.save_pretrained(tokenizer_save_path)"
   ]
  },
  {
   "cell_type": "markdown",
   "metadata": {},
   "source": [
    "## Analysis"
   ]
  },
  {
   "cell_type": "markdown",
   "metadata": {},
   "source": [
    "T5-base 382M (RACE)\n",
    "Convergence:\n",
    "\n",
    "    The model converges well. Validation loss decreases consistently up to epoch 6, reaching a low value of 0.2903.\n",
    "    Training loss also stabilizes at epoch 6, suggesting the model has learned the dataset sufficiently.\n",
    "\n",
    "Epochs for Convergence:\n",
    "\n",
    "    Convergence occurs after 6 epochs.\n",
    "\n",
    "Overfitting or Underfitting:\n",
    "\n",
    "    No overfitting is observed as the validation loss trend closely matches the training loss.\n",
    "    Underfitting is not an issue, as both losses decrease significantly.\n",
    "\n",
    "Solutions Applied:\n",
    "\n",
    "    Early stopping at epoch 6 was optimal to prevent overfitting."
   ]
  }
 ],
 "metadata": {
  "kaggle": {
   "accelerator": "none",
   "dataSources": [],
   "dockerImageVersionId": 30804,
   "isGpuEnabled": false,
   "isInternetEnabled": true,
   "language": "python",
   "sourceType": "notebook"
  },
  "kernelspec": {
   "display_name": "Python 3",
   "language": "python",
   "name": "python3"
  },
  "language_info": {
   "codemirror_mode": {
    "name": "ipython",
    "version": 3
   },
   "file_extension": ".py",
   "mimetype": "text/x-python",
   "name": "python",
   "nbconvert_exporter": "python",
   "pygments_lexer": "ipython3",
   "version": "3.10.14"
  }
 },
 "nbformat": 4,
 "nbformat_minor": 4
}
